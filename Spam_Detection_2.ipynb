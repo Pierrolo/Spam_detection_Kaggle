{
 "cells": [
  {
   "cell_type": "code",
   "execution_count": 2,
   "metadata": {
    "scrolled": false
   },
   "outputs": [
    {
     "data": {
      "text/html": [
       "<div id=\"my_id_menu_nb\">run previous cell, wait for 2 seconds</div>\n",
       "<script>\n",
       "function repeat_indent_string(n){\n",
       "    var a = \"\" ;\n",
       "    for ( ; n > 0 ; --n)\n",
       "        a += \"    \";\n",
       "    return a;\n",
       "}\n",
       "// look up into all sections and builds an automated menu //\n",
       "var update_menu_string = function(begin, lfirst, llast, sformat, send, keep_item, begin_format, end_format) {\n",
       "    var anchors = document.getElementsByClassName(\"section\");\n",
       "    if (anchors.length == 0) {\n",
       "        anchors = document.getElementsByClassName(\"text_cell_render rendered_html\");\n",
       "    }\n",
       "    var i,t;\n",
       "    var text_menu = begin;\n",
       "    var text_memo = \"<pre>\\nlength:\" + anchors.length + \"\\n\";\n",
       "    var ind = \"\";\n",
       "    var memo_level = 1;\n",
       "    var href;\n",
       "    var tags = [];\n",
       "    var main_item = 0;\n",
       "    var format_open = 0;\n",
       "    for (i = 0; i <= llast; i++)\n",
       "        tags.push(\"h\" + i);\n",
       "\n",
       "    for (i = 0; i < anchors.length; i++) {\n",
       "        text_memo += \"**\" + anchors[i].id + \"--\\n\";\n",
       "\n",
       "        var child = null;\n",
       "        for(t = 0; t < tags.length; t++) {\n",
       "            var r = anchors[i].getElementsByTagName(tags[t]);\n",
       "            if (r.length > 0) {\n",
       "child = r[0];\n",
       "break;\n",
       "            }\n",
       "        }\n",
       "        if (child == null) {\n",
       "            text_memo += \"null\\n\";\n",
       "            continue;\n",
       "        }\n",
       "        if (anchors[i].hasAttribute(\"id\")) {\n",
       "            // when converted in RST\n",
       "            href = anchors[i].id;\n",
       "            text_memo += \"#1-\" + href;\n",
       "            // passer à child suivant (le chercher)\n",
       "        }\n",
       "        else if (child.hasAttribute(\"id\")) {\n",
       "            // in a notebook\n",
       "            href = child.id;\n",
       "            text_memo += \"#2-\" + href;\n",
       "        }\n",
       "        else {\n",
       "            text_memo += \"#3-\" + \"*\" + \"\\n\";\n",
       "            continue;\n",
       "        }\n",
       "        var title = child.textContent;\n",
       "        var level = parseInt(child.tagName.substring(1,2));\n",
       "\n",
       "        text_memo += \"--\" + level + \"?\" + lfirst + \"--\" + title + \"\\n\";\n",
       "\n",
       "        if ((level < lfirst) || (level > llast)) {\n",
       "            continue ;\n",
       "        }\n",
       "        if (title.endsWith('¶')) {\n",
       "            title = title.substring(0,title.length-1).replace(\"<\", \"&lt;\")\n",
       "         .replace(\">\", \"&gt;\").replace(\"&\", \"&amp;\");\n",
       "        }\n",
       "        if (title.length == 0) {\n",
       "            continue;\n",
       "        }\n",
       "\n",
       "        while (level < memo_level) {\n",
       "            text_menu += end_format + \"</ul>\\n\";\n",
       "            format_open -= 1;\n",
       "            memo_level -= 1;\n",
       "        }\n",
       "        if (level == lfirst) {\n",
       "            main_item += 1;\n",
       "        }\n",
       "        if (keep_item != -1 && main_item != keep_item + 1) {\n",
       "            // alert(main_item + \" - \" + level + \" - \" + keep_item);\n",
       "            continue;\n",
       "        }\n",
       "        while (level > memo_level) {\n",
       "            text_menu += \"<ul>\\n\";\n",
       "            memo_level += 1;\n",
       "        }\n",
       "        text_menu += repeat_indent_string(level-2);\n",
       "        text_menu += begin_format + sformat.replace(\"__HREF__\", href).replace(\"__TITLE__\", title);\n",
       "        format_open += 1;\n",
       "    }\n",
       "    while (1 < memo_level) {\n",
       "        text_menu += end_format + \"</ul>\\n\";\n",
       "        memo_level -= 1;\n",
       "        format_open -= 1;\n",
       "    }\n",
       "    text_menu += send;\n",
       "    //text_menu += \"\\n\" + text_memo;\n",
       "\n",
       "    while (format_open > 0) {\n",
       "        text_menu += end_format;\n",
       "        format_open -= 1;\n",
       "    }\n",
       "    return text_menu;\n",
       "};\n",
       "var update_menu = function() {\n",
       "    var sbegin = \"\";\n",
       "    var sformat = '<a href=\"#__HREF__\">__TITLE__</a>';\n",
       "    var send = \"\";\n",
       "    var begin_format = '<li>';\n",
       "    var end_format = '</li>';\n",
       "    var keep_item = -1;\n",
       "    var text_menu = update_menu_string(sbegin, 2, 4, sformat, send, keep_item,\n",
       "       begin_format, end_format);\n",
       "    var menu = document.getElementById(\"my_id_menu_nb\");\n",
       "    menu.innerHTML=text_menu;\n",
       "};\n",
       "window.setTimeout(update_menu,2000);\n",
       "            </script>"
      ],
      "text/plain": [
       "<IPython.core.display.HTML object>"
      ]
     },
     "execution_count": 2,
     "metadata": {},
     "output_type": "execute_result"
    }
   ],
   "source": [
    "from jyquickhelper import add_notebook_menu\n",
    "add_notebook_menu()"
   ]
  },
  {
   "cell_type": "markdown",
   "metadata": {},
   "source": [
    "# Spam Detection "
   ]
  },
  {
   "cell_type": "code",
   "execution_count": 3,
   "metadata": {},
   "outputs": [
    {
     "name": "stderr",
     "output_type": "stream",
     "text": [
      "C:\\Users\\woill\\Anaconda3\\lib\\site-packages\\sklearn\\ensemble\\weight_boosting.py:29: DeprecationWarning: numpy.core.umath_tests is an internal NumPy module and should not be imported. It will be removed in a future NumPy release.\n",
      "  from numpy.core.umath_tests import inner1d\n"
     ]
    },
    {
     "name": "stdout",
     "output_type": "stream",
     "text": [
      "[nltk_data] Downloading package punkt to\n",
      "[nltk_data]     C:\\Users\\woill\\AppData\\Roaming\\nltk_data...\n",
      "[nltk_data]   Package punkt is already up-to-date!\n"
     ]
    },
    {
     "data": {
      "text/plain": [
       "True"
      ]
     },
     "execution_count": 3,
     "metadata": {},
     "output_type": "execute_result"
    }
   ],
   "source": [
    "from IPython.display import display\n",
    "import numpy as np\n",
    "import pandas as pd\n",
    "import string\n",
    "import math\n",
    "import matplotlib.pyplot as plt\n",
    "from sklearn.model_selection import train_test_split\n",
    "from sklearn.feature_extraction.text import CountVectorizer\n",
    "from sklearn import model_selection\n",
    "from sklearn.linear_model import LogisticRegression\n",
    "from sklearn.naive_bayes import GaussianNB, MultinomialNB # good for classic binary features\n",
    "from sklearn import svm\n",
    "from sklearn.neighbors import KNeighborsClassifier\n",
    "from sklearn.ensemble import RandomForestClassifier, GradientBoostingClassifier\n",
    "from sklearn.metrics import accuracy_score,confusion_matrix,classification_report\n",
    "from sklearn.model_selection import KFold, cross_val_score, train_test_split\n",
    "from sklearn.metrics import make_scorer\n",
    "import nltk\n",
    "\n",
    "\n",
    "\n",
    "nltk.download('punkt')"
   ]
  },
  {
   "cell_type": "markdown",
   "metadata": {},
   "source": [
    "## Preprocessing"
   ]
  },
  {
   "cell_type": "code",
   "execution_count": 4,
   "metadata": {},
   "outputs": [],
   "source": [
    "df = pd.read_csv(\"./data/spam.csv\", encoding = \"ISO-8859-1\", engine='python')"
   ]
  },
  {
   "cell_type": "code",
   "execution_count": 5,
   "metadata": {},
   "outputs": [
    {
     "data": {
      "text/html": [
       "<div>\n",
       "<style scoped>\n",
       "    .dataframe tbody tr th:only-of-type {\n",
       "        vertical-align: middle;\n",
       "    }\n",
       "\n",
       "    .dataframe tbody tr th {\n",
       "        vertical-align: top;\n",
       "    }\n",
       "\n",
       "    .dataframe thead th {\n",
       "        text-align: right;\n",
       "    }\n",
       "</style>\n",
       "<table border=\"1\" class=\"dataframe\">\n",
       "  <thead>\n",
       "    <tr style=\"text-align: right;\">\n",
       "      <th></th>\n",
       "      <th>Unnamed: 0</th>\n",
       "      <th>label</th>\n",
       "      <th>SMS</th>\n",
       "    </tr>\n",
       "  </thead>\n",
       "  <tbody>\n",
       "    <tr>\n",
       "      <th>0</th>\n",
       "      <td>0</td>\n",
       "      <td>ham</td>\n",
       "      <td>Go until jurong point, crazy.. Available only ...</td>\n",
       "    </tr>\n",
       "    <tr>\n",
       "      <th>1</th>\n",
       "      <td>1</td>\n",
       "      <td>ham</td>\n",
       "      <td>Ok lar... Joking wif u oni...</td>\n",
       "    </tr>\n",
       "    <tr>\n",
       "      <th>2</th>\n",
       "      <td>2</td>\n",
       "      <td>spam</td>\n",
       "      <td>Free entry in 2 a wkly comp to win FA Cup fina...</td>\n",
       "    </tr>\n",
       "    <tr>\n",
       "      <th>3</th>\n",
       "      <td>3</td>\n",
       "      <td>ham</td>\n",
       "      <td>U dun say so early hor... U c already then say...</td>\n",
       "    </tr>\n",
       "    <tr>\n",
       "      <th>4</th>\n",
       "      <td>4</td>\n",
       "      <td>ham</td>\n",
       "      <td>Nah I don't think he goes to usf, he lives aro...</td>\n",
       "    </tr>\n",
       "  </tbody>\n",
       "</table>\n",
       "</div>"
      ],
      "text/plain": [
       "   Unnamed: 0 label                                                SMS\n",
       "0           0   ham  Go until jurong point, crazy.. Available only ...\n",
       "1           1   ham                      Ok lar... Joking wif u oni...\n",
       "2           2  spam  Free entry in 2 a wkly comp to win FA Cup fina...\n",
       "3           3   ham  U dun say so early hor... U c already then say...\n",
       "4           4   ham  Nah I don't think he goes to usf, he lives aro..."
      ]
     },
     "execution_count": 5,
     "metadata": {},
     "output_type": "execute_result"
    }
   ],
   "source": [
    "df.head()"
   ]
  },
  {
   "cell_type": "markdown",
   "metadata": {},
   "source": [
    "### Cleaning"
   ]
  },
  {
   "cell_type": "markdown",
   "metadata": {},
   "source": [
    "Hare we will do a few things : <br/>\n",
    "    1. Check for missing values\n",
    "    2. Remove the first column\n",
    "    3. Create a binary label column\n",
    "    4. Remove (but save) punctuation from the SMS"
   ]
  },
  {
   "cell_type": "code",
   "execution_count": 6,
   "metadata": {},
   "outputs": [
    {
     "data": {
      "text/html": [
       "<div>\n",
       "<style scoped>\n",
       "    .dataframe tbody tr th:only-of-type {\n",
       "        vertical-align: middle;\n",
       "    }\n",
       "\n",
       "    .dataframe tbody tr th {\n",
       "        vertical-align: top;\n",
       "    }\n",
       "\n",
       "    .dataframe thead th {\n",
       "        text-align: right;\n",
       "    }\n",
       "</style>\n",
       "<table border=\"1\" class=\"dataframe\">\n",
       "  <thead>\n",
       "    <tr style=\"text-align: right;\">\n",
       "      <th></th>\n",
       "      <th>Missing Ratio</th>\n",
       "    </tr>\n",
       "  </thead>\n",
       "  <tbody>\n",
       "  </tbody>\n",
       "</table>\n",
       "</div>"
      ],
      "text/plain": [
       "Empty DataFrame\n",
       "Columns: [Missing Ratio]\n",
       "Index: []"
      ]
     },
     "execution_count": 6,
     "metadata": {},
     "output_type": "execute_result"
    }
   ],
   "source": [
    "all_data_na = (df.isnull().sum() / len(df)) * 100\n",
    "all_data_na = all_data_na.drop(all_data_na[all_data_na == 0].index).sort_values(ascending=False)[:30]\n",
    "missing_data = pd.DataFrame({'Missing Ratio' :all_data_na})\n",
    "missing_data.head()"
   ]
  },
  {
   "cell_type": "code",
   "execution_count": 7,
   "metadata": {},
   "outputs": [],
   "source": [
    "df.drop(['Unnamed: 0'], axis=1, inplace=True)"
   ]
  },
  {
   "cell_type": "code",
   "execution_count": 8,
   "metadata": {},
   "outputs": [
    {
     "data": {
      "text/plain": [
       "array(['ham', 'spam'], dtype=object)"
      ]
     },
     "execution_count": 8,
     "metadata": {},
     "output_type": "execute_result"
    }
   ],
   "source": [
    "df.label.unique() #checking for eventual case problems before mapping"
   ]
  },
  {
   "cell_type": "code",
   "execution_count": 9,
   "metadata": {},
   "outputs": [],
   "source": [
    "df['target'] = df.label.map({'ham':0, 'spam':1})"
   ]
  },
  {
   "cell_type": "code",
   "execution_count": 10,
   "metadata": {},
   "outputs": [],
   "source": [
    "for punctu in string.punctuation:\n",
    "    df[punctu] = df['SMS'].map(lambda v : v.count(punctu))"
   ]
  },
  {
   "cell_type": "code",
   "execution_count": 11,
   "metadata": {},
   "outputs": [
    {
     "data": {
      "text/html": [
       "<div>\n",
       "<style scoped>\n",
       "    .dataframe tbody tr th:only-of-type {\n",
       "        vertical-align: middle;\n",
       "    }\n",
       "\n",
       "    .dataframe tbody tr th {\n",
       "        vertical-align: top;\n",
       "    }\n",
       "\n",
       "    .dataframe thead th {\n",
       "        text-align: right;\n",
       "    }\n",
       "</style>\n",
       "<table border=\"1\" class=\"dataframe\">\n",
       "  <thead>\n",
       "    <tr style=\"text-align: right;\">\n",
       "      <th></th>\n",
       "      <th>cleaned_SMS</th>\n",
       "      <th>label</th>\n",
       "      <th>SMS</th>\n",
       "      <th>target</th>\n",
       "      <th>!</th>\n",
       "      <th>\"</th>\n",
       "      <th>#</th>\n",
       "      <th>$</th>\n",
       "      <th>%</th>\n",
       "      <th>&amp;</th>\n",
       "      <th>...</th>\n",
       "      <th>[</th>\n",
       "      <th>\\</th>\n",
       "      <th>]</th>\n",
       "      <th>^</th>\n",
       "      <th>_</th>\n",
       "      <th>`</th>\n",
       "      <th>{</th>\n",
       "      <th>|</th>\n",
       "      <th>}</th>\n",
       "      <th>~</th>\n",
       "    </tr>\n",
       "  </thead>\n",
       "  <tbody>\n",
       "    <tr>\n",
       "      <th>0</th>\n",
       "      <td>go until jurong point crazy available only in ...</td>\n",
       "      <td>ham</td>\n",
       "      <td>Go until jurong point, crazy.. Available only ...</td>\n",
       "      <td>0</td>\n",
       "      <td>0</td>\n",
       "      <td>0</td>\n",
       "      <td>0</td>\n",
       "      <td>0</td>\n",
       "      <td>0</td>\n",
       "      <td>0</td>\n",
       "      <td>...</td>\n",
       "      <td>0</td>\n",
       "      <td>0</td>\n",
       "      <td>0</td>\n",
       "      <td>0</td>\n",
       "      <td>0</td>\n",
       "      <td>0</td>\n",
       "      <td>0</td>\n",
       "      <td>0</td>\n",
       "      <td>0</td>\n",
       "      <td>0</td>\n",
       "    </tr>\n",
       "    <tr>\n",
       "      <th>1</th>\n",
       "      <td>ok lar joking wif u oni</td>\n",
       "      <td>ham</td>\n",
       "      <td>Ok lar... Joking wif u oni...</td>\n",
       "      <td>0</td>\n",
       "      <td>0</td>\n",
       "      <td>0</td>\n",
       "      <td>0</td>\n",
       "      <td>0</td>\n",
       "      <td>0</td>\n",
       "      <td>0</td>\n",
       "      <td>...</td>\n",
       "      <td>0</td>\n",
       "      <td>0</td>\n",
       "      <td>0</td>\n",
       "      <td>0</td>\n",
       "      <td>0</td>\n",
       "      <td>0</td>\n",
       "      <td>0</td>\n",
       "      <td>0</td>\n",
       "      <td>0</td>\n",
       "      <td>0</td>\n",
       "    </tr>\n",
       "    <tr>\n",
       "      <th>2</th>\n",
       "      <td>free entry in 2 a wkly comp to win fa cup fina...</td>\n",
       "      <td>spam</td>\n",
       "      <td>Free entry in 2 a wkly comp to win FA Cup fina...</td>\n",
       "      <td>1</td>\n",
       "      <td>0</td>\n",
       "      <td>0</td>\n",
       "      <td>0</td>\n",
       "      <td>0</td>\n",
       "      <td>0</td>\n",
       "      <td>1</td>\n",
       "      <td>...</td>\n",
       "      <td>0</td>\n",
       "      <td>0</td>\n",
       "      <td>0</td>\n",
       "      <td>0</td>\n",
       "      <td>0</td>\n",
       "      <td>0</td>\n",
       "      <td>0</td>\n",
       "      <td>0</td>\n",
       "      <td>0</td>\n",
       "      <td>0</td>\n",
       "    </tr>\n",
       "    <tr>\n",
       "      <th>3</th>\n",
       "      <td>u dun say so early hor u c already then say</td>\n",
       "      <td>ham</td>\n",
       "      <td>U dun say so early hor... U c already then say...</td>\n",
       "      <td>0</td>\n",
       "      <td>0</td>\n",
       "      <td>0</td>\n",
       "      <td>0</td>\n",
       "      <td>0</td>\n",
       "      <td>0</td>\n",
       "      <td>0</td>\n",
       "      <td>...</td>\n",
       "      <td>0</td>\n",
       "      <td>0</td>\n",
       "      <td>0</td>\n",
       "      <td>0</td>\n",
       "      <td>0</td>\n",
       "      <td>0</td>\n",
       "      <td>0</td>\n",
       "      <td>0</td>\n",
       "      <td>0</td>\n",
       "      <td>0</td>\n",
       "    </tr>\n",
       "    <tr>\n",
       "      <th>4</th>\n",
       "      <td>nah i dont think he goes to usf he lives aroun...</td>\n",
       "      <td>ham</td>\n",
       "      <td>Nah I don't think he goes to usf, he lives aro...</td>\n",
       "      <td>0</td>\n",
       "      <td>0</td>\n",
       "      <td>0</td>\n",
       "      <td>0</td>\n",
       "      <td>0</td>\n",
       "      <td>0</td>\n",
       "      <td>0</td>\n",
       "      <td>...</td>\n",
       "      <td>0</td>\n",
       "      <td>0</td>\n",
       "      <td>0</td>\n",
       "      <td>0</td>\n",
       "      <td>0</td>\n",
       "      <td>0</td>\n",
       "      <td>0</td>\n",
       "      <td>0</td>\n",
       "      <td>0</td>\n",
       "      <td>0</td>\n",
       "    </tr>\n",
       "  </tbody>\n",
       "</table>\n",
       "<p>5 rows × 36 columns</p>\n",
       "</div>"
      ],
      "text/plain": [
       "                                         cleaned_SMS label  \\\n",
       "0  go until jurong point crazy available only in ...   ham   \n",
       "1                            ok lar joking wif u oni   ham   \n",
       "2  free entry in 2 a wkly comp to win fa cup fina...  spam   \n",
       "3        u dun say so early hor u c already then say   ham   \n",
       "4  nah i dont think he goes to usf he lives aroun...   ham   \n",
       "\n",
       "                                                 SMS  target  !  \"  #  $  %  \\\n",
       "0  Go until jurong point, crazy.. Available only ...       0  0  0  0  0  0   \n",
       "1                      Ok lar... Joking wif u oni...       0  0  0  0  0  0   \n",
       "2  Free entry in 2 a wkly comp to win FA Cup fina...       1  0  0  0  0  0   \n",
       "3  U dun say so early hor... U c already then say...       0  0  0  0  0  0   \n",
       "4  Nah I don't think he goes to usf, he lives aro...       0  0  0  0  0  0   \n",
       "\n",
       "   & ...  [  \\  ]  ^  _  `  {  |  }  ~  \n",
       "0  0 ...  0  0  0  0  0  0  0  0  0  0  \n",
       "1  0 ...  0  0  0  0  0  0  0  0  0  0  \n",
       "2  1 ...  0  0  0  0  0  0  0  0  0  0  \n",
       "3  0 ...  0  0  0  0  0  0  0  0  0  0  \n",
       "4  0 ...  0  0  0  0  0  0  0  0  0  0  \n",
       "\n",
       "[5 rows x 36 columns]"
      ]
     },
     "execution_count": 11,
     "metadata": {},
     "output_type": "execute_result"
    }
   ],
   "source": [
    "cleaned = []\n",
    "for i in range(len(df['SMS'])):\n",
    "    clean = df['SMS'][i].translate(str.maketrans('', '', string.punctuation))\n",
    "    clean = clean.lower()\n",
    "    cleaned.append(clean)\n",
    "df.insert(loc=0, column=\"cleaned_SMS\", value=cleaned)\n",
    "df.head()"
   ]
  },
  {
   "cell_type": "markdown",
   "metadata": {},
   "source": [
    "We now have the cleaned SMS text, and we saved the number of each punctuation, just in case we might like to add it, as an input to our model later on. It's not crazy to think that SMS Spams are maybe more full of punctuation, with messages like :<br/>\n",
    ">'You won somehting !!!!! Come get it here : www.somerandomwebsite.com//givemeyourcreditcard//trustmeimyourfriend !!'"
   ]
  },
  {
   "cell_type": "code",
   "execution_count": 12,
   "metadata": {},
   "outputs": [],
   "source": [
    "df['word_count'] = df['cleaned_SMS'].apply(lambda v : len(v.split(\" \")))"
   ]
  },
  {
   "cell_type": "markdown",
   "metadata": {},
   "source": [
    "### Quick data analysis"
   ]
  },
  {
   "cell_type": "markdown",
   "metadata": {},
   "source": [
    "Here we will look at the data distribution on things such as :\n",
    "    1. Word Count\n",
    "    2. Punctuation"
   ]
  },
  {
   "cell_type": "code",
   "execution_count": 13,
   "metadata": {},
   "outputs": [
    {
     "data": {
      "image/png": "[encoded data removed]",
      "text/plain": [
       "<matplotlib.figure.Figure at 0x1fe52fe7f28>"
      ]
     },
     "metadata": {
      "needs_background": "light"
     },
     "output_type": "display_data"
    }
   ],
   "source": [
    "ax1 = plt.subplot(121)\n",
    "df.label.hist(density = False) \n",
    "plt.title('Spam Vs Ham Value Counts')\n",
    "\n",
    "ax2 = plt.subplot(122)\n",
    "df['word_count'].hist(bins=100)\n",
    "plt.title('Word Count Overall')\n",
    "\n",
    "plt.tight_layout()\n",
    "plt.show()\n",
    "# Clear class imbalance, keep in mind when looking at performances\n",
    "# Text messages, so not that big a text => simple Bag of Word approach might suffice, we'll see if we need more compex approach such as word embedding, n-gram"
   ]
  },
  {
   "cell_type": "code",
   "execution_count": 14,
   "metadata": {},
   "outputs": [
    {
     "data": {
      "text/plain": [
       "<matplotlib.legend.Legend at 0x1fe55473780>"
      ]
     },
     "execution_count": 14,
     "metadata": {},
     "output_type": "execute_result"
    },
    {
     "data": {
      "image/png": "[encoded data removed]",
      "text/plain": [
       "<matplotlib.figure.Figure at 0x1fe530aaeb8>"
      ]
     },
     "metadata": {
      "needs_background": "light"
     },
     "output_type": "display_data"
    }
   ],
   "source": [
    "df[df.label == 'spam']['word_count'].hist(alpha = 0.6, density = True, label = 'Spam')\n",
    "df[df.label == 'ham']['word_count'].hist(alpha = 0.6, density = True, label = 'Ham')\n",
    "plt.legend()\n",
    "# Spams are usually longer than regular texts messages"
   ]
  },
  {
   "cell_type": "code",
   "execution_count": 15,
   "metadata": {
    "collapsed": true
   },
   "outputs": [
    {
     "data": {
      "image/png": "[encoded data removed]",
      "text/plain": [
       "<matplotlib.figure.Figure at 0x1fe554b0828>"
      ]
     },
     "metadata": {
      "needs_background": "light"
     },
     "output_type": "display_data"
    },
    {
     "data": {
      "image/png": "[encoded data removed]",
      "text/plain": [
       "<matplotlib.figure.Figure at 0x1fe554ee668>"
      ]
     },
     "metadata": {
      "needs_background": "light"
     },
     "output_type": "display_data"
    },
    {
     "data": {
      "image/png": "[encoded data removed]",
      "text/plain": [
       "<matplotlib.figure.Figure at 0x1fe55775e80>"
      ]
     },
     "metadata": {
      "needs_background": "light"
     },
     "output_type": "display_data"
    },
    {
     "data": {
      "image/png": "[encoded data removed]",
      "text/plain": [
       "<matplotlib.figure.Figure at 0x1fe55829c50>"
      ]
     },
     "metadata": {
      "needs_background": "light"
     },
     "output_type": "display_data"
    },
    {
     "data": {
      "image/png": "[encoded data removed]",
      "text/plain": [
       "<matplotlib.figure.Figure at 0x1fe558ac630>"
      ]
     },
     "metadata": {
      "needs_background": "light"
     },
     "output_type": "display_data"
    },
    {
     "data": {
      "image/png": "[encoded data removed]",
      "text/plain": [
       "<matplotlib.figure.Figure at 0x1fe5585f630>"
      ]
     },
     "metadata": {
      "needs_background": "light"
     },
     "output_type": "display_data"
    },
    {
     "data": {
      "image/png": "[encoded data removed]",
      "text/plain": [
       "<matplotlib.figure.Figure at 0x1fe559ba438>"
      ]
     },
     "metadata": {
      "needs_background": "light"
     },
     "output_type": "display_data"
    },
    {
     "data": {
      "image/png": "[encoded data removed]",
      "text/plain": [
       "<matplotlib.figure.Figure at 0x1fe55a63be0>"
      ]
     },
     "metadata": {
      "needs_background": "light"
     },
     "output_type": "display_data"
    },
    {
     "data": {
      "image/png": "[encoded data removed]",
      "text/plain": [
       "<matplotlib.figure.Figure at 0x1fe559ba0b8>"
      ]
     },
     "metadata": {
      "needs_background": "light"
     },
     "output_type": "display_data"
    },
    {
     "data": {
      "image/png": "[encoded data removed]",
      "text/plain": [
       "<matplotlib.figure.Figure at 0x1fe553b5c18>"
      ]
     },
     "metadata": {
      "needs_background": "light"
     },
     "output_type": "display_data"
    },
    {
     "data": {
      "image/png": "[encoded data removed]",
      "text/plain": [
       "<matplotlib.figure.Figure at 0x1fe55955e48>"
      ]
     },
     "metadata": {
      "needs_background": "light"
     },
     "output_type": "display_data"
    },
    {
     "data": {
      "image/png": "[encoded data removed]",
      "text/plain": [
       "<matplotlib.figure.Figure at 0x1fe55ae0860>"
      ]
     },
     "metadata": {
      "needs_background": "light"
     },
     "output_type": "display_data"
    },
    {
     "data": {
      "image/png": "[encoded data removed]",
      "text/plain": [
       "<matplotlib.figure.Figure at 0x1fe558aa4e0>"
      ]
     },
     "metadata": {
      "needs_background": "light"
     },
     "output_type": "display_data"
    },
    {
     "data": {
      "image/png": "[encoded data removed]",
      "text/plain": [
       "<matplotlib.figure.Figure at 0x1fe5592d6d8>"
      ]
     },
     "metadata": {
      "needs_background": "light"
     },
     "output_type": "display_data"
    },
    {
     "data": {
      "image/png": "[encoded data removed]",
      "text/plain": [
       "<matplotlib.figure.Figure at 0x1fe5553ce48>"
      ]
     },
     "metadata": {
      "needs_background": "light"
     },
     "output_type": "display_data"
    },
    {
     "data": {
      "image/png": "[encoded data removed]",
      "text/plain": [
       "<matplotlib.figure.Figure at 0x1fe55b3ac88>"
      ]
     },
     "metadata": {
      "needs_background": "light"
     },
     "output_type": "display_data"
    },
    {
     "data": {
      "image/png": "[encoded data removed]",
      "text/plain": [
       "<matplotlib.figure.Figure at 0x1fe55b773c8>"
      ]
     },
     "metadata": {
      "needs_background": "light"
     },
     "output_type": "display_data"
    },
    {
     "data": {
      "image/png": "[encoded data removed]",
      "text/plain": [
       "<matplotlib.figure.Figure at 0x1fe56c4e438>"
      ]
     },
     "metadata": {
      "needs_background": "light"
     },
     "output_type": "display_data"
    },
    {
     "data": {
      "image/png": "[encoded data removed]",
      "text/plain": [
       "<matplotlib.figure.Figure at 0x1fe56cd6fd0>"
      ]
     },
     "metadata": {
      "needs_background": "light"
     },
     "output_type": "display_data"
    },
    {
     "data": {
      "image/png": "[encoded data removed]",
      "text/plain": [
       "<matplotlib.figure.Figure at 0x1fe56ec2198>"
      ]
     },
     "metadata": {
      "needs_background": "light"
     },
     "output_type": "display_data"
    },
    {
     "data": {
      "image/png": "[encoded data removed]",
      "text/plain": [
       "<matplotlib.figure.Figure at 0x1fe56ec97b8>"
      ]
     },
     "metadata": {
      "needs_background": "light"
     },
     "output_type": "display_data"
    },
    {
     "data": {
      "image/png": "[encoded data removed]",
      "text/plain": [
       "<matplotlib.figure.Figure at 0x1fe56d230f0>"
      ]
     },
     "metadata": {
      "needs_background": "light"
     },
     "output_type": "display_data"
    },
    {
     "data": {
      "image/png": "[encoded data removed]",
      "text/plain": [
       "<matplotlib.figure.Figure at 0x1fe56d2a128>"
      ]
     },
     "metadata": {
      "needs_background": "light"
     },
     "output_type": "display_data"
    },
    {
     "data": {
      "image/png": "[encoded data removed]",
      "text/plain": [
       "<matplotlib.figure.Figure at 0x1fe55b776a0>"
      ]
     },
     "metadata": {
      "needs_background": "light"
     },
     "output_type": "display_data"
    },
    {
     "data": {
      "image/png": "[encoded data removed]",
      "text/plain": [
       "<matplotlib.figure.Figure at 0x1fe56d1a5c0>"
      ]
     },
     "metadata": {
      "needs_background": "light"
     },
     "output_type": "display_data"
    },
    {
     "data": {
      "image/png": "[encoded data removed]",
      "text/plain": [
       "<matplotlib.figure.Figure at 0x1fe56c133c8>"
      ]
     },
     "metadata": {
      "needs_background": "light"
     },
     "output_type": "display_data"
    },
    {
     "data": {
      "image/png": "[encoded data removed]",
      "text/plain": [
       "<matplotlib.figure.Figure at 0x1fe557b7cc0>"
      ]
     },
     "metadata": {
      "needs_background": "light"
     },
     "output_type": "display_data"
    },
    {
     "data": {
      "image/png": "[encoded data removed]",
      "text/plain": [
       "<matplotlib.figure.Figure at 0x1fe5587a518>"
      ]
     },
     "metadata": {
      "needs_background": "light"
     },
     "output_type": "display_data"
    },
    {
     "data": {
      "image/png": "[encoded data removed]",
      "text/plain": [
       "<matplotlib.figure.Figure at 0x1fe55ab4d30>"
      ]
     },
     "metadata": {
      "needs_background": "light"
     },
     "output_type": "display_data"
    },
    {
     "data": {
      "image/png": "[encoded data removed]",
      "text/plain": [
       "<matplotlib.figure.Figure at 0x1fe55780a58>"
      ]
     },
     "metadata": {
      "needs_background": "light"
     },
     "output_type": "display_data"
    },
    {
     "data": {
      "image/png": "[encoded data removed]",
      "text/plain": [
       "<matplotlib.figure.Figure at 0x1fe5596d7f0>"
      ]
     },
     "metadata": {
      "needs_background": "light"
     },
     "output_type": "display_data"
    },
    {
     "data": {
      "image/png": "[encoded data removed]",
      "text/plain": [
       "<matplotlib.figure.Figure at 0x1fe55a2df28>"
      ]
     },
     "metadata": {
      "needs_background": "light"
     },
     "output_type": "display_data"
    }
   ],
   "source": [
    "for punctu in string.punctuation:\n",
    "    df[df.label == 'spam'][punctu].hist(alpha = 0.7, density = True, label = 'Spam')\n",
    "    df[df.label == 'ham'][punctu].hist(alpha = 0.7, density = True, label = 'Ham')\n",
    "    plt.legend()\n",
    "    plt.title(\"Distribution of '\" + punctu + \"'\")\n",
    "    plt.show()\n",
    "# It seems that \"classical\" punctuation like . , ? are not good indicator of something beeing a spam or not\n",
    "# But more \"unorthodox\" punctuation like / @ ] seem to give more information on the label"
   ]
  },
  {
   "cell_type": "markdown",
   "metadata": {},
   "source": [
    "#### More Features"
   ]
  },
  {
   "cell_type": "markdown",
   "metadata": {},
   "source": [
    "I am going to try with the findings of this paper : https://www.researchgate.net/publication/318657353_Towards_Filtering_of_SMS_Spam_Messages_Using_Machine_Learning_Based_Technique\n",
    "\n",
    "• Presence of Mathematical Symbols<br/>\n",
    "• Presence of URLs<br/>\n",
    "• Presence of Dots<br/>\n",
    "• Presence of special symbols<br/>\n",
    "• Presence of emotions<br/>\n",
    "• Lowercased words<br/>\n",
    "• Uppercased words<br/>\n",
    "• Presences of Mobile Number<br/>\n",
    "• Keyword specific<br/>\n",
    "• Message Length (we already have this one)<br/>"
   ]
  },
  {
   "cell_type": "code",
   "execution_count": 16,
   "metadata": {},
   "outputs": [],
   "source": [
    "Mathematical_Symbols = ['+','−','<','>','/','^','*']\n",
    "df[\"S1\"] = df.SMS.apply(lambda v : max([min(v.count(k),1) for k in Mathematical_Symbols]))"
   ]
  },
  {
   "cell_type": "code",
   "execution_count": 17,
   "metadata": {},
   "outputs": [],
   "source": [
    "import re\n",
    "WEB_URL_REGEX = r\"\"\"(?i)\\b((?:https?:(?:/{1,3}|[a-z0-9%])|[a-z0-9.\\-]+[.](?:com|net|org|edu|gov|mil|aero|asia|biz|cat|coop|info|int|jobs|mobi|museum|name|post|pro|tel|travel|xxx|ac|ad|ae|af|ag|ai|al|am|an|ao|aq|ar|as|at|au|aw|ax|az|ba|bb|bd|be|bf|bg|bh|bi|bj|bm|bn|bo|br|bs|bt|bv|bw|by|bz|ca|cc|cd|cf|cg|ch|ci|ck|cl|cm|cn|co|cr|cs|cu|cv|cx|cy|cz|dd|de|dj|dk|dm|do|dz|ec|ee|eg|eh|er|es|et|eu|fi|fj|fk|fm|fo|fr|ga|gb|gd|ge|gf|gg|gh|gi|gl|gm|gn|gp|gq|gr|gs|gt|gu|gw|gy|hk|hm|hn|hr|ht|hu|id|ie|il|im|in|io|iq|ir|is|it|je|jm|jo|jp|ke|kg|kh|ki|km|kn|kp|kr|kw|ky|kz|la|lb|lc|li|lk|lr|ls|lt|lu|lv|ly|ma|mc|md|me|mg|mh|mk|ml|mm|mn|mo|mp|mq|mr|ms|mt|mu|mv|mw|mx|my|mz|na|nc|ne|nf|ng|ni|nl|no|np|nr|nu|nz|om|pa|pe|pf|pg|ph|pk|pl|pm|pn|pr|ps|pt|pw|py|qa|re|ro|rs|ru|rw|sa|sb|sc|sd|se|sg|sh|si|sj|Ja|sk|sl|sm|sn|so|sr|ss|st|su|sv|sx|sy|sz|tc|td|tf|tg|th|tj|tk|tl|tm|tn|to|tp|tr|tt|tv|tw|tz|ua|ug|uk|us|uy|uz|va|vc|ve|vg|vi|vn|vu|wf|ws|ye|yt|yu|za|zm|zw)/)(?:[^\\s()<>{}\\[\\]]+|\\([^\\s()]*?\\([^\\s()]+\\)[^\\s()]*?\\)|\\([^\\s]+?\\))+(?:\\([^\\s()]*?\\([^\\s()]+\\)[^\\s()]*?\\)|\\([^\\s]+?\\)|[^\\s`!()\\[\\]{};:'\".,<>?«»“”‘’])|(?:(?<!@)[a-z0-9]+(?:[.\\-][a-z0-9]+)*[.](?:com|net|org|edu|gov|mil|aero|asia|biz|cat|coop|info|int|jobs|mobi|museum|name|post|pro|tel|travel|xxx|ac|ad|ae|af|ag|ai|al|am|an|ao|aq|ar|as|at|au|aw|ax|az|ba|bb|bd|be|bf|bg|bh|bi|bj|bm|bn|bo|br|bs|bt|bv|bw|by|bz|ca|cc|cd|cf|cg|ch|ci|ck|cl|cm|cn|co|cr|cs|cu|cv|cx|cy|cz|dd|de|dj|dk|dm|do|dz|ec|ee|eg|eh|er|es|et|eu|fi|fj|fk|fm|fo|fr|ga|gb|gd|ge|gf|gg|gh|gi|gl|gm|gn|gp|gq|gr|gs|gt|gu|gw|gy|hk|hm|hn|hr|ht|hu|id|ie|il|im|in|io|iq|ir|is|it|je|jm|jo|jp|ke|kg|kh|ki|km|kn|kp|kr|kw|ky|kz|la|lb|lc|li|lk|lr|ls|lt|lu|lv|ly|ma|mc|md|me|mg|mh|mk|ml|mm|mn|mo|mp|mq|mr|ms|mt|mu|mv|mw|mx|my|mz|na|nc|ne|nf|ng|ni|nl|no|np|nr|nu|nz|om|pa|pe|pf|pg|ph|pk|pl|pm|pn|pr|ps|pt|pw|py|qa|re|ro|rs|ru|rw|sa|sb|sc|sd|se|sg|sh|si|sj|Ja|sk|sl|sm|sn|so|sr|ss|st|su|sv|sx|sy|sz|tc|td|tf|tg|th|tj|tk|tl|tm|tn|to|tp|tr|tt|tv|tw|tz|ua|ug|uk|us|uy|uz|va|vc|ve|vg|vi|vn|vu|wf|ws|ye|yt|yu|za|zm|zw)\\b/?(?!@)))\"\"\"\n",
    "df[\"S2\"] = df.SMS.apply(lambda v : min(len(re.findall(WEB_URL_REGEX,v)),1) )"
   ]
  },
  {
   "cell_type": "code",
   "execution_count": 18,
   "metadata": {},
   "outputs": [],
   "source": [
    "df[\"S3\"] = df.SMS.apply(lambda v : max([min(v.count('.'),1)]))"
   ]
  },
  {
   "cell_type": "code",
   "execution_count": 19,
   "metadata": {},
   "outputs": [],
   "source": [
    "Special_Symbols = ['!','*','&','#','*']\n",
    "df[\"S4\"] = df.SMS.apply(lambda v : max([min(v.count(k),1) for k in Special_Symbols]))"
   ]
  },
  {
   "cell_type": "code",
   "execution_count": 20,
   "metadata": {},
   "outputs": [],
   "source": [
    "Emoticons = [':)',':(','-_-',':p',':v',':*',':o','B-)',':’(']\n",
    "df[\"S5\"] = df.SMS.apply(lambda v : max([min(v.count(k),1) for k in Emoticons]))"
   ]
  },
  {
   "cell_type": "code",
   "execution_count": 21,
   "metadata": {},
   "outputs": [],
   "source": [
    "df[\"S6\"] = df.SMS.apply(lambda v : min(sum([k.islower() for k in v.split()]),1))"
   ]
  },
  {
   "cell_type": "code",
   "execution_count": 22,
   "metadata": {},
   "outputs": [],
   "source": [
    "df[\"S7\"] = df.SMS.apply(lambda v : min(sum([k.isupper() for k in v.split()]),1))"
   ]
  },
  {
   "cell_type": "code",
   "execution_count": 23,
   "metadata": {},
   "outputs": [],
   "source": [
    "def detect_numbers(text):\n",
    "    phone_regex = re.compile(r\"(\\+d{3}|\\+d{2})?\\s*?(\\d{3}|\\d{2}|\\d{1})\\s*?(\\d{3}|\\d{2})\\s*?(\\d{3}|\\d{2})\")\n",
    "    return min(len(phone_regex.findall(text)),1)\n",
    "df[\"S8\"] = df.SMS.apply(lambda v : detect_numbers(v))"
   ]
  },
  {
   "cell_type": "code",
   "execution_count": 24,
   "metadata": {
    "scrolled": true
   },
   "outputs": [],
   "source": [
    "# load from https://github.com/splorp/wordpress-comment-blacklist\n",
    "Keyword_Specific = pd.read_table('./data/Spam_words_Blacklist.txt',  encoding = \"utf-8\", engine = \"python\")\n",
    "specific_keywords= Keyword_Specific[\"0\"].values"
   ]
  },
  {
   "cell_type": "code",
   "execution_count": 25,
   "metadata": {},
   "outputs": [],
   "source": [
    "df[\"S9\"] = df.SMS.apply(lambda v : max([min(v.count(k),1) for k in specific_keywords])) \n",
    "#there are 30K words, so a little bit long to create this column"
   ]
  },
  {
   "cell_type": "markdown",
   "metadata": {},
   "source": [
    "Let's quickly look at how useful those new features might be :"
   ]
  },
  {
   "cell_type": "code",
   "execution_count": 26,
   "metadata": {
    "scrolled": true
   },
   "outputs": [
    {
     "data": {
      "image/png": "[encoded data removed]",
      "text/plain": [
       "<matplotlib.figure.Figure at 0x1fe558552b0>"
      ]
     },
     "metadata": {
      "needs_background": "light"
     },
     "output_type": "display_data"
    },
    {
     "data": {
      "image/png": "[encoded data removed]",
      "text/plain": [
       "<matplotlib.figure.Figure at 0x1fe5578f3c8>"
      ]
     },
     "metadata": {
      "needs_background": "light"
     },
     "output_type": "display_data"
    },
    {
     "data": {
      "image/png": "[encoded data removed]",
      "text/plain": [
       "<matplotlib.figure.Figure at 0x1fe559abc18>"
      ]
     },
     "metadata": {
      "needs_background": "light"
     },
     "output_type": "display_data"
    },
    {
     "data": {
      "image/png": "[encoded data removed]",
      "text/plain": [
       "<matplotlib.figure.Figure at 0x1fe56c0dc50>"
      ]
     },
     "metadata": {
      "needs_background": "light"
     },
     "output_type": "display_data"
    },
    {
     "data": {
      "image/png": "[encoded data removed]",
      "text/plain": [
       "<matplotlib.figure.Figure at 0x1fe56d7aeb8>"
      ]
     },
     "metadata": {
      "needs_background": "light"
     },
     "output_type": "display_data"
    },
    {
     "data": {
      "image/png": "[encoded data removed]",
      "text/plain": [
       "<matplotlib.figure.Figure at 0x1fe55608f60>"
      ]
     },
     "metadata": {
      "needs_background": "light"
     },
     "output_type": "display_data"
    },
    {
     "data": {
      "image/png": "[encoded data removed]",
      "text/plain": [
       "<matplotlib.figure.Figure at 0x1fe55696c88>"
      ]
     },
     "metadata": {
      "needs_background": "light"
     },
     "output_type": "display_data"
    },
    {
     "data": {
      "image/png": "[encoded data removed]",
      "text/plain": [
       "<matplotlib.figure.Figure at 0x1fe556b9cf8>"
      ]
     },
     "metadata": {
      "needs_background": "light"
     },
     "output_type": "display_data"
    },
    {
     "data": {
      "image/png": "[encoded data removed]",
      "text/plain": [
       "<matplotlib.figure.Figure at 0x1fe558792e8>"
      ]
     },
     "metadata": {
      "needs_background": "light"
     },
     "output_type": "display_data"
    }
   ],
   "source": [
    "for k in range(9):\n",
    "    df[df.label == 'spam'][\"S\"+str(k+1)].hist(alpha = 0.7, density = True, label = 'Spam')\n",
    "    df[df.label == 'ham'][\"S\"+str(k+1)].hist(alpha = 0.7, density = True, label = 'Ham')\n",
    "    plt.legend()\n",
    "    plt.title(\"Distribution of '\" + \"S\"+str(k+1) + \"'\")\n",
    "    plt.show()\n",
    "#Result: seems indeed like very discriminants features, for most"
   ]
  },
  {
   "cell_type": "markdown",
   "metadata": {},
   "source": [
    "### Train/Test split"
   ]
  },
  {
   "cell_type": "code",
   "execution_count": 27,
   "metadata": {},
   "outputs": [
    {
     "name": "stdout",
     "output_type": "stream",
     "text": [
      "(4457, 44)\n",
      "(1115, 44)\n",
      "(4457,)\n",
      "(1115,)\n"
     ]
    }
   ],
   "source": [
    "features_cols = [k for k in string.punctuation]\n",
    "features_cols.append(\"SMS\")\n",
    "features_cols.append(\"cleaned_SMS\")\n",
    "features_cols.append(\"word_count\")\n",
    "features_cols.append(\"S1\"), features_cols.append(\"S2\"), features_cols.append(\"S3\"), features_cols.append(\"S4\")\n",
    "features_cols.append(\"S5\"), features_cols.append(\"S6\"), features_cols.append(\"S7\"), features_cols.append(\"S8\")\n",
    "features_cols.append(\"S9\")\n",
    "\n",
    "X_train, X_test, y_train, y_test = train_test_split(df[features_cols], df[\"target\"], test_size = 0.2, random_state = 10, )\n",
    "print(X_train.shape)\n",
    "print(X_test.shape)\n",
    "print(y_train.shape)\n",
    "print(y_test.shape)"
   ]
  },
  {
   "cell_type": "markdown",
   "metadata": {},
   "source": [
    "### Vectorization"
   ]
  },
  {
   "cell_type": "markdown",
   "metadata": {},
   "source": [
    "#### Word Tokenazation"
   ]
  },
  {
   "cell_type": "code",
   "execution_count": 28,
   "metadata": {
    "scrolled": true
   },
   "outputs": [
    {
     "name": "stdout",
     "output_type": "stream",
     "text": [
      "(4457, 7757)\n",
      "(1115, 7757)\n"
     ]
    }
   ],
   "source": [
    "vect_SMS = CountVectorizer()\n",
    "vect_SMS.fit(X_train.SMS)\n",
    "X_train_vect_SMS = vect_SMS.transform(X_train.SMS)\n",
    "X_test_vect_SMS = vect_SMS.transform(X_test.SMS)\n",
    "print(X_train_vect_SMS.shape)\n",
    "print(X_test_vect_SMS.shape)"
   ]
  },
  {
   "cell_type": "code",
   "execution_count": 29,
   "metadata": {
    "scrolled": true
   },
   "outputs": [
    {
     "name": "stdout",
     "output_type": "stream",
     "text": [
      "(4457, 8429)\n",
      "(1115, 8429)\n"
     ]
    }
   ],
   "source": [
    "vect_cleaned_SMS = CountVectorizer()\n",
    "vect_cleaned_SMS.fit(X_train.cleaned_SMS)\n",
    "X_train_vect_cleaned_SMS = vect_cleaned_SMS.transform(X_train.cleaned_SMS)\n",
    "X_test_vect_cleaned_SMS = vect_cleaned_SMS.transform(X_test.cleaned_SMS)\n",
    "print(X_train_vect_cleaned_SMS.shape)\n",
    "print(X_test_vect_cleaned_SMS.shape)"
   ]
  },
  {
   "cell_type": "markdown",
   "metadata": {},
   "source": [
    "#### Additional Features"
   ]
  },
  {
   "cell_type": "code",
   "execution_count": 30,
   "metadata": {},
   "outputs": [
    {
     "name": "stdout",
     "output_type": "stream",
     "text": [
      "['S1', 'S2', 'S3', 'S4', 'S5', 'S6', 'S7', 'S8', 'S9', 'word_count']\n"
     ]
    }
   ],
   "source": [
    "additional_features_col_names = [\"S\"+str(k+1) for k in range(9)]\n",
    "additional_features_col_names.append(\"word_count\")\n",
    "ADDITIONAL_FEATURES_COL_NAMES= additional_features_col_names\n",
    "print(ADDITIONAL_FEATURES_COL_NAMES)"
   ]
  },
  {
   "cell_type": "code",
   "execution_count": 31,
   "metadata": {},
   "outputs": [
    {
     "name": "stdout",
     "output_type": "stream",
     "text": [
      "(4457, 7767)\n",
      "(1115, 7767)\n"
     ]
    }
   ],
   "source": [
    "X_train_SMS_tokens = pd.DataFrame(X_train_vect_SMS.toarray(), index= X_train.index)\n",
    "addition_feat_train = X_train[additional_features_col_names]\n",
    "X_train_SMS_all_feat = pd.concat([X_train_SMS_tokens, addition_feat_train],\n",
    "                                 axis=1)\n",
    "\n",
    "X_test_SMS_tokens = pd.DataFrame(X_test_vect_SMS.toarray(), index= X_test.index)\n",
    "addition_feat_test = X_test[additional_features_col_names]\n",
    "X_test_SMS_all_feat = pd.concat([X_test_SMS_tokens, addition_feat_test],\n",
    "                                 axis=1)\n",
    "\n",
    "print(X_train_SMS_all_feat.shape)\n",
    "print(X_test_SMS_all_feat.shape)"
   ]
  },
  {
   "cell_type": "code",
   "execution_count": 32,
   "metadata": {
    "scrolled": true
   },
   "outputs": [
    {
     "name": "stdout",
     "output_type": "stream",
     "text": [
      "(4457, 8439)\n",
      "(1115, 8439)\n"
     ]
    }
   ],
   "source": [
    "X_train_cleaned_SMS_tokens = pd.DataFrame(X_train_vect_cleaned_SMS.toarray(), index= X_train.index)\n",
    "addition_feat_train = X_train[additional_features_col_names]\n",
    "X_train_cleaned_SMS_all_feat = pd.concat([X_train_cleaned_SMS_tokens, addition_feat_train],\n",
    "                                         axis=1)\n",
    "\n",
    "X_test_cleaned_SMS_tokens = pd.DataFrame(X_test_vect_cleaned_SMS.toarray(), index= X_test.index)\n",
    "addition_feat_test = X_test[additional_features_col_names]\n",
    "X_test_cleaned_SMS_all_feat = pd.concat([X_test_cleaned_SMS_tokens, addition_feat_test],\n",
    "                                        axis=1)\n",
    "\n",
    "print(X_train_cleaned_SMS_all_feat.shape)\n",
    "print(X_test_cleaned_SMS_all_feat.shape)"
   ]
  },
  {
   "cell_type": "markdown",
   "metadata": {},
   "source": [
    "We now have our inputs for our models"
   ]
  },
  {
   "cell_type": "markdown",
   "metadata": {},
   "source": [
    "## Modelling"
   ]
  },
  {
   "cell_type": "markdown",
   "metadata": {},
   "source": [
    "I'm gonna go from simplest to more complex settings<br/><br/>\n",
    "I will also try with those inputs :\n",
    "    1. Original SMS\n",
    "    2. Cleaned SMS\n",
    "    3. Original SMS + additional features\n",
    "    4. Cleaned SMS + additional features"
   ]
  },
  {
   "cell_type": "code",
   "execution_count": 33,
   "metadata": {},
   "outputs": [],
   "source": [
    "inputs_dict = {\"Original_SMS\": [X_train_vect_SMS.toarray(), y_train, X_test_vect_SMS.toarray(), y_test],\n",
    "               \"Cleaned_SMS\": [X_train_vect_cleaned_SMS.toarray(), y_train, X_test_vect_cleaned_SMS.toarray(), y_test],\n",
    "               \"Original_SMS_and_add_feat\": [X_train_SMS_all_feat, y_train, X_test_SMS_all_feat, y_test],\n",
    "               \"Cleaned_SMS_and_add_feat\": [X_train_cleaned_SMS_all_feat, y_train, X_test_cleaned_SMS_all_feat, y_test]\n",
    "              }"
   ]
  },
  {
   "cell_type": "markdown",
   "metadata": {},
   "source": [
    "### Base Models"
   ]
  },
  {
   "cell_type": "code",
   "execution_count": 35,
   "metadata": {},
   "outputs": [],
   "source": [
    "def train_and_conf(inputs, model_n_name, display_conf = True , return_scores = False):\n",
    "    \n",
    "    model_from_sk, name = model_n_name\n",
    "    X_train, y_train, X_test, y_test = inputs\n",
    "    model = model_from_sk\n",
    "    model.fit(X_train,y_train)\n",
    "\n",
    "    predictions[name] = model.predict(X_test)\n",
    "    \n",
    "    confusion_matrix_model = pd.DataFrame(\n",
    "        confusion_matrix(y_test, predictions[name]),\n",
    "        columns=[\"Predicted Ham\", \"Predicted Spam\"],\n",
    "        index=[\"Actual Ham\", \"Actual Spam\"])\n",
    "    if display_conf == True:    \n",
    "        display(confusion_matrix_model)\n",
    "    \n",
    "    if return_scores == True:    \n",
    "        return [confusion_matrix_model[\"Predicted Ham\"][\"Actual Spam\"], confusion_matrix_model[\"Predicted Spam\"][\"Actual Ham\"]]"
   ]
  },
  {
   "cell_type": "code",
   "execution_count": 36,
   "metadata": {},
   "outputs": [],
   "source": [
    "#Validation function\n",
    "n_folds = 3\n",
    "\n",
    "def tp(y_true, y_pred): return confusion_matrix(y_true, y_pred)[1, 1]\n",
    "def tn(y_true, y_pred): return confusion_matrix(y_true, y_pred)[0, 0]\n",
    "def fp(y_true, y_pred): return confusion_matrix(y_true, y_pred)[0, 1]\n",
    "def fn(y_true, y_pred): return confusion_matrix(y_true, y_pred)[1, 0]\n",
    "score_tp= make_scorer(tp)\n",
    "score_tn= make_scorer(tn)\n",
    "score_fp= make_scorer(fp)\n",
    "score_fn= make_scorer(fn)\n",
    "\n",
    "scoring = {'tp' : score_tp, 'tn' : score_tn,\n",
    "           'fp' : score_fp, 'fn' : score_fn}\n",
    "\n",
    "def conf_mat_score_cv(model, inputs = [X_train_vect_SMS.toarray(), y_train, X_test_vect_SMS.toarray(), y_test], display_confusion = False, scoring = score_fn):\n",
    "    \n",
    "    X_train, y_train, X_test, y_test = inputs\n",
    "    kf = KFold(n_folds, shuffle=True, random_state=42).get_n_splits(X_train)\n",
    "    scores_cv= cross_val_score(model, X_train, y_train, scoring=scoring, cv = kf)\n",
    "    \n",
    "    model.fit(X_train, y_train)\n",
    "    if display_confusion == True:\n",
    "        confusion_matrix_model = pd.DataFrame(\n",
    "            confusion_matrix(y_test, model.predict(X_test)),\n",
    "            columns=[\"Predicted Ham\", \"Predicted Spam\"],\n",
    "            index=[\"Actual Ham\", \"Actual Spam\"])\n",
    "        display(confusion_matrix_model)\n",
    "        \n",
    "    \n",
    "    return(scores_cv)"
   ]
  },
  {
   "cell_type": "markdown",
   "metadata": {},
   "source": [
    "#### Logistic Regression"
   ]
  },
  {
   "cell_type": "code",
   "execution_count": 35,
   "metadata": {},
   "outputs": [
    {
     "data": {
      "text/html": [
       "<div>\n",
       "<style scoped>\n",
       "    .dataframe tbody tr th:only-of-type {\n",
       "        vertical-align: middle;\n",
       "    }\n",
       "\n",
       "    .dataframe tbody tr th {\n",
       "        vertical-align: top;\n",
       "    }\n",
       "\n",
       "    .dataframe thead th {\n",
       "        text-align: right;\n",
       "    }\n",
       "</style>\n",
       "<table border=\"1\" class=\"dataframe\">\n",
       "  <thead>\n",
       "    <tr style=\"text-align: right;\">\n",
       "      <th></th>\n",
       "      <th>Predicted Ham</th>\n",
       "      <th>Predicted Spam</th>\n",
       "    </tr>\n",
       "  </thead>\n",
       "  <tbody>\n",
       "    <tr>\n",
       "      <th>Actual Ham</th>\n",
       "      <td>962</td>\n",
       "      <td>3</td>\n",
       "    </tr>\n",
       "    <tr>\n",
       "      <th>Actual Spam</th>\n",
       "      <td>19</td>\n",
       "      <td>131</td>\n",
       "    </tr>\n",
       "  </tbody>\n",
       "</table>\n",
       "</div>"
      ],
      "text/plain": [
       "             Predicted Ham  Predicted Spam\n",
       "Actual Ham             962               3\n",
       "Actual Spam             19             131"
      ]
     },
     "metadata": {},
     "output_type": "display_data"
    },
    {
     "data": {
      "text/html": [
       "<div>\n",
       "<style scoped>\n",
       "    .dataframe tbody tr th:only-of-type {\n",
       "        vertical-align: middle;\n",
       "    }\n",
       "\n",
       "    .dataframe tbody tr th {\n",
       "        vertical-align: top;\n",
       "    }\n",
       "\n",
       "    .dataframe thead th {\n",
       "        text-align: right;\n",
       "    }\n",
       "</style>\n",
       "<table border=\"1\" class=\"dataframe\">\n",
       "  <thead>\n",
       "    <tr style=\"text-align: right;\">\n",
       "      <th></th>\n",
       "      <th>Predicted Ham</th>\n",
       "      <th>Predicted Spam</th>\n",
       "    </tr>\n",
       "  </thead>\n",
       "  <tbody>\n",
       "    <tr>\n",
       "      <th>Actual Ham</th>\n",
       "      <td>962</td>\n",
       "      <td>3</td>\n",
       "    </tr>\n",
       "    <tr>\n",
       "      <th>Actual Spam</th>\n",
       "      <td>19</td>\n",
       "      <td>131</td>\n",
       "    </tr>\n",
       "  </tbody>\n",
       "</table>\n",
       "</div>"
      ],
      "text/plain": [
       "             Predicted Ham  Predicted Spam\n",
       "Actual Ham             962               3\n",
       "Actual Spam             19             131"
      ]
     },
     "metadata": {},
     "output_type": "display_data"
    },
    {
     "name": "stdout",
     "output_type": "stream",
     "text": [
      "Original SMS Accuracy : 0.9802690582959641\n",
      "Cleaned SMS Accuracy : 0.9802690582959641\n",
      "Diff : 0.0\n"
     ]
    }
   ],
   "source": [
    "LogisticRegr = LogisticRegression()\n",
    "LogisticRegr_cleaned = LogisticRegression()\n",
    "conf_mat_score_cv(LogisticRegr, inputs = inputs_dict[\"Original_SMS\"], display_confusion = True)\n",
    "conf_mat_score_cv(LogisticRegr_cleaned, inputs = inputs_dict[\"Cleaned_SMS\"], display_confusion = True)\n",
    "print(\"Original SMS Accuracy : \" + str(accuracy_score(y_test, LogisticRegr.predict(X_test_vect_SMS))))\n",
    "print(\"Cleaned SMS Accuracy : \" + str(accuracy_score(y_test, LogisticRegr_cleaned.predict(X_test_vect_cleaned_SMS))))\n",
    "print(\"Diff : \" + str(100*abs\n",
    "                      (accuracy_score(y_test, LogisticRegr.predict(X_test_vect_SMS))\n",
    "                       - accuracy_score(y_test, LogisticRegr_cleaned.predict(X_test_vect_cleaned_SMS)))\n",
    "                     ))\n",
    "\n",
    "# already good results without tuning anything, or even using punctuations\n",
    "# clean Vs unclean didn't make much a difference, good to know for production"
   ]
  },
  {
   "cell_type": "markdown",
   "metadata": {},
   "source": [
    "I believe that in production, the Actual Spam that we predicted as Ham are our biggest problem<br/>\n",
    "The actual Ham predicted as Spam are less problematic I would say<br/>\n",
    "So even though we have a 97% accuracy, this result of 19 Actual Spam predicted as Ham is still quite big since it represents more than 15% of our spams, this is not a really satisfying result.<br/><br/>\n",
    "A good result would be the other way around<br/>\n",
    "Those results are not normalized."
   ]
  },
  {
   "cell_type": "code",
   "execution_count": 36,
   "metadata": {
    "scrolled": true
   },
   "outputs": [
    {
     "name": "stdout",
     "output_type": "stream",
     "text": [
      "Original_SMS:\n",
      "False Negative CV score: 25.333333333333332 (5.312459150169742)\n",
      "\n",
      "Cleaned_SMS:\n",
      "False Negative CV score: 31.333333333333332 (9.104333522498443)\n",
      "\n",
      "Original_SMS_and_add_feat:\n",
      "False Negative CV score: 19.666666666666668 (1.8856180831641267)\n",
      "\n",
      "Cleaned_SMS_and_add_feat:\n",
      "False Negative CV score: 21.333333333333332 (1.247219128924647)\n",
      "\n"
     ]
    }
   ],
   "source": [
    "for i in inputs_dict:\n",
    "    print(i + \":\")\n",
    "    LogisticRegr = LogisticRegression()\n",
    "    score = conf_mat_score_cv(LogisticRegr, inputs = inputs_dict[i], display_confusion = False)\n",
    "    print(\"False Negative CV score: \" + str(score.mean()) +\" (\" +str(score.std())+\")\\n\")    "
   ]
  },
  {
   "cell_type": "markdown",
   "metadata": {},
   "source": [
    "#### SVM"
   ]
  },
  {
   "cell_type": "code",
   "execution_count": 39,
   "metadata": {},
   "outputs": [
    {
     "name": "stdout",
     "output_type": "stream",
     "text": [
      "Original_SMS:\n"
     ]
    },
    {
     "data": {
      "text/html": [
       "<div>\n",
       "<style scoped>\n",
       "    .dataframe tbody tr th:only-of-type {\n",
       "        vertical-align: middle;\n",
       "    }\n",
       "\n",
       "    .dataframe tbody tr th {\n",
       "        vertical-align: top;\n",
       "    }\n",
       "\n",
       "    .dataframe thead th {\n",
       "        text-align: right;\n",
       "    }\n",
       "</style>\n",
       "<table border=\"1\" class=\"dataframe\">\n",
       "  <thead>\n",
       "    <tr style=\"text-align: right;\">\n",
       "      <th></th>\n",
       "      <th>Predicted Ham</th>\n",
       "      <th>Predicted Spam</th>\n",
       "    </tr>\n",
       "  </thead>\n",
       "  <tbody>\n",
       "    <tr>\n",
       "      <th>Actual Ham</th>\n",
       "      <td>964</td>\n",
       "      <td>1</td>\n",
       "    </tr>\n",
       "    <tr>\n",
       "      <th>Actual Spam</th>\n",
       "      <td>34</td>\n",
       "      <td>116</td>\n",
       "    </tr>\n",
       "  </tbody>\n",
       "</table>\n",
       "</div>"
      ],
      "text/plain": [
       "             Predicted Ham  Predicted Spam\n",
       "Actual Ham             964               1\n",
       "Actual Spam             34             116"
      ]
     },
     "metadata": {},
     "output_type": "display_data"
    },
    {
     "name": "stdout",
     "output_type": "stream",
     "text": [
      "False Negative CV score: 43.0 (6.683312551921141)\n",
      "\n",
      "Cleaned_SMS:\n"
     ]
    },
    {
     "data": {
      "text/html": [
       "<div>\n",
       "<style scoped>\n",
       "    .dataframe tbody tr th:only-of-type {\n",
       "        vertical-align: middle;\n",
       "    }\n",
       "\n",
       "    .dataframe tbody tr th {\n",
       "        vertical-align: top;\n",
       "    }\n",
       "\n",
       "    .dataframe thead th {\n",
       "        text-align: right;\n",
       "    }\n",
       "</style>\n",
       "<table border=\"1\" class=\"dataframe\">\n",
       "  <thead>\n",
       "    <tr style=\"text-align: right;\">\n",
       "      <th></th>\n",
       "      <th>Predicted Ham</th>\n",
       "      <th>Predicted Spam</th>\n",
       "    </tr>\n",
       "  </thead>\n",
       "  <tbody>\n",
       "    <tr>\n",
       "      <th>Actual Ham</th>\n",
       "      <td>964</td>\n",
       "      <td>1</td>\n",
       "    </tr>\n",
       "    <tr>\n",
       "      <th>Actual Spam</th>\n",
       "      <td>38</td>\n",
       "      <td>112</td>\n",
       "    </tr>\n",
       "  </tbody>\n",
       "</table>\n",
       "</div>"
      ],
      "text/plain": [
       "             Predicted Ham  Predicted Spam\n",
       "Actual Ham             964               1\n",
       "Actual Spam             38             112"
      ]
     },
     "metadata": {},
     "output_type": "display_data"
    },
    {
     "name": "stdout",
     "output_type": "stream",
     "text": [
      "False Negative CV score: 54.333333333333336 (6.342099196813483)\n",
      "\n",
      "Original_SMS_and_add_feat:\n"
     ]
    },
    {
     "data": {
      "text/html": [
       "<div>\n",
       "<style scoped>\n",
       "    .dataframe tbody tr th:only-of-type {\n",
       "        vertical-align: middle;\n",
       "    }\n",
       "\n",
       "    .dataframe tbody tr th {\n",
       "        vertical-align: top;\n",
       "    }\n",
       "\n",
       "    .dataframe thead th {\n",
       "        text-align: right;\n",
       "    }\n",
       "</style>\n",
       "<table border=\"1\" class=\"dataframe\">\n",
       "  <thead>\n",
       "    <tr style=\"text-align: right;\">\n",
       "      <th></th>\n",
       "      <th>Predicted Ham</th>\n",
       "      <th>Predicted Spam</th>\n",
       "    </tr>\n",
       "  </thead>\n",
       "  <tbody>\n",
       "    <tr>\n",
       "      <th>Actual Ham</th>\n",
       "      <td>871</td>\n",
       "      <td>94</td>\n",
       "    </tr>\n",
       "    <tr>\n",
       "      <th>Actual Spam</th>\n",
       "      <td>147</td>\n",
       "      <td>3</td>\n",
       "    </tr>\n",
       "  </tbody>\n",
       "</table>\n",
       "</div>"
      ],
      "text/plain": [
       "             Predicted Ham  Predicted Spam\n",
       "Actual Ham             871              94\n",
       "Actual Spam            147               3"
      ]
     },
     "metadata": {},
     "output_type": "display_data"
    },
    {
     "name": "stdout",
     "output_type": "stream",
     "text": [
      "False Negative CV score: 197.66666666666666 (1.247219128924647)\n",
      "\n",
      "Cleaned_SMS_and_add_feat:\n"
     ]
    },
    {
     "data": {
      "text/html": [
       "<div>\n",
       "<style scoped>\n",
       "    .dataframe tbody tr th:only-of-type {\n",
       "        vertical-align: middle;\n",
       "    }\n",
       "\n",
       "    .dataframe tbody tr th {\n",
       "        vertical-align: top;\n",
       "    }\n",
       "\n",
       "    .dataframe thead th {\n",
       "        text-align: right;\n",
       "    }\n",
       "</style>\n",
       "<table border=\"1\" class=\"dataframe\">\n",
       "  <thead>\n",
       "    <tr style=\"text-align: right;\">\n",
       "      <th></th>\n",
       "      <th>Predicted Ham</th>\n",
       "      <th>Predicted Spam</th>\n",
       "    </tr>\n",
       "  </thead>\n",
       "  <tbody>\n",
       "    <tr>\n",
       "      <th>Actual Ham</th>\n",
       "      <td>870</td>\n",
       "      <td>95</td>\n",
       "    </tr>\n",
       "    <tr>\n",
       "      <th>Actual Spam</th>\n",
       "      <td>147</td>\n",
       "      <td>3</td>\n",
       "    </tr>\n",
       "  </tbody>\n",
       "</table>\n",
       "</div>"
      ],
      "text/plain": [
       "             Predicted Ham  Predicted Spam\n",
       "Actual Ham             870              95\n",
       "Actual Spam            147               3"
      ]
     },
     "metadata": {},
     "output_type": "display_data"
    },
    {
     "name": "stdout",
     "output_type": "stream",
     "text": [
      "False Negative CV score: 197.66666666666666 (1.247219128924647)\n",
      "\n"
     ]
    }
   ],
   "source": [
    "for i in inputs_dict:\n",
    "    print(i + \":\")\n",
    "    model_svm_SVC = svm.SVC(kernel='sigmoid', gamma =  0.01)\n",
    "    score = conf_mat_score_cv(model_svm_SVC, inputs = inputs_dict[i], display_confusion = True)\n",
    "    print(\"False Negative CV score: \" + str(score.mean()) +\" (\" +str(score.std())+\")\\n\")  "
   ]
  },
  {
   "cell_type": "markdown",
   "metadata": {},
   "source": [
    "#### Random Forrest"
   ]
  },
  {
   "cell_type": "code",
   "execution_count": 37,
   "metadata": {},
   "outputs": [
    {
     "name": "stdout",
     "output_type": "stream",
     "text": [
      "Original_SMS:\n"
     ]
    },
    {
     "data": {
      "text/html": [
       "<div>\n",
       "<style scoped>\n",
       "    .dataframe tbody tr th:only-of-type {\n",
       "        vertical-align: middle;\n",
       "    }\n",
       "\n",
       "    .dataframe tbody tr th {\n",
       "        vertical-align: top;\n",
       "    }\n",
       "\n",
       "    .dataframe thead th {\n",
       "        text-align: right;\n",
       "    }\n",
       "</style>\n",
       "<table border=\"1\" class=\"dataframe\">\n",
       "  <thead>\n",
       "    <tr style=\"text-align: right;\">\n",
       "      <th></th>\n",
       "      <th>Predicted Ham</th>\n",
       "      <th>Predicted Spam</th>\n",
       "    </tr>\n",
       "  </thead>\n",
       "  <tbody>\n",
       "    <tr>\n",
       "      <th>Actual Ham</th>\n",
       "      <td>965</td>\n",
       "      <td>0</td>\n",
       "    </tr>\n",
       "    <tr>\n",
       "      <th>Actual Spam</th>\n",
       "      <td>37</td>\n",
       "      <td>113</td>\n",
       "    </tr>\n",
       "  </tbody>\n",
       "</table>\n",
       "</div>"
      ],
      "text/plain": [
       "             Predicted Ham  Predicted Spam\n",
       "Actual Ham             965               0\n",
       "Actual Spam             37             113"
      ]
     },
     "metadata": {},
     "output_type": "display_data"
    },
    {
     "name": "stdout",
     "output_type": "stream",
     "text": [
      "False Negative CV score: 53.0 (8.16496580927726)\n",
      "\n",
      "Cleaned_SMS:\n"
     ]
    },
    {
     "data": {
      "text/html": [
       "<div>\n",
       "<style scoped>\n",
       "    .dataframe tbody tr th:only-of-type {\n",
       "        vertical-align: middle;\n",
       "    }\n",
       "\n",
       "    .dataframe tbody tr th {\n",
       "        vertical-align: top;\n",
       "    }\n",
       "\n",
       "    .dataframe thead th {\n",
       "        text-align: right;\n",
       "    }\n",
       "</style>\n",
       "<table border=\"1\" class=\"dataframe\">\n",
       "  <thead>\n",
       "    <tr style=\"text-align: right;\">\n",
       "      <th></th>\n",
       "      <th>Predicted Ham</th>\n",
       "      <th>Predicted Spam</th>\n",
       "    </tr>\n",
       "  </thead>\n",
       "  <tbody>\n",
       "    <tr>\n",
       "      <th>Actual Ham</th>\n",
       "      <td>965</td>\n",
       "      <td>0</td>\n",
       "    </tr>\n",
       "    <tr>\n",
       "      <th>Actual Spam</th>\n",
       "      <td>46</td>\n",
       "      <td>104</td>\n",
       "    </tr>\n",
       "  </tbody>\n",
       "</table>\n",
       "</div>"
      ],
      "text/plain": [
       "             Predicted Ham  Predicted Spam\n",
       "Actual Ham             965               0\n",
       "Actual Spam             46             104"
      ]
     },
     "metadata": {},
     "output_type": "display_data"
    },
    {
     "name": "stdout",
     "output_type": "stream",
     "text": [
      "False Negative CV score: 59.333333333333336 (7.760297817881877)\n",
      "\n",
      "Original_SMS_and_add_feat:\n"
     ]
    },
    {
     "data": {
      "text/html": [
       "<div>\n",
       "<style scoped>\n",
       "    .dataframe tbody tr th:only-of-type {\n",
       "        vertical-align: middle;\n",
       "    }\n",
       "\n",
       "    .dataframe tbody tr th {\n",
       "        vertical-align: top;\n",
       "    }\n",
       "\n",
       "    .dataframe thead th {\n",
       "        text-align: right;\n",
       "    }\n",
       "</style>\n",
       "<table border=\"1\" class=\"dataframe\">\n",
       "  <thead>\n",
       "    <tr style=\"text-align: right;\">\n",
       "      <th></th>\n",
       "      <th>Predicted Ham</th>\n",
       "      <th>Predicted Spam</th>\n",
       "    </tr>\n",
       "  </thead>\n",
       "  <tbody>\n",
       "    <tr>\n",
       "      <th>Actual Ham</th>\n",
       "      <td>965</td>\n",
       "      <td>0</td>\n",
       "    </tr>\n",
       "    <tr>\n",
       "      <th>Actual Spam</th>\n",
       "      <td>17</td>\n",
       "      <td>133</td>\n",
       "    </tr>\n",
       "  </tbody>\n",
       "</table>\n",
       "</div>"
      ],
      "text/plain": [
       "             Predicted Ham  Predicted Spam\n",
       "Actual Ham             965               0\n",
       "Actual Spam             17             133"
      ]
     },
     "metadata": {},
     "output_type": "display_data"
    },
    {
     "name": "stdout",
     "output_type": "stream",
     "text": [
      "False Negative CV score: 36.666666666666664 (7.408703590297622)\n",
      "\n",
      "Cleaned_SMS_and_add_feat:\n"
     ]
    },
    {
     "data": {
      "text/html": [
       "<div>\n",
       "<style scoped>\n",
       "    .dataframe tbody tr th:only-of-type {\n",
       "        vertical-align: middle;\n",
       "    }\n",
       "\n",
       "    .dataframe tbody tr th {\n",
       "        vertical-align: top;\n",
       "    }\n",
       "\n",
       "    .dataframe thead th {\n",
       "        text-align: right;\n",
       "    }\n",
       "</style>\n",
       "<table border=\"1\" class=\"dataframe\">\n",
       "  <thead>\n",
       "    <tr style=\"text-align: right;\">\n",
       "      <th></th>\n",
       "      <th>Predicted Ham</th>\n",
       "      <th>Predicted Spam</th>\n",
       "    </tr>\n",
       "  </thead>\n",
       "  <tbody>\n",
       "    <tr>\n",
       "      <th>Actual Ham</th>\n",
       "      <td>965</td>\n",
       "      <td>0</td>\n",
       "    </tr>\n",
       "    <tr>\n",
       "      <th>Actual Spam</th>\n",
       "      <td>27</td>\n",
       "      <td>123</td>\n",
       "    </tr>\n",
       "  </tbody>\n",
       "</table>\n",
       "</div>"
      ],
      "text/plain": [
       "             Predicted Ham  Predicted Spam\n",
       "Actual Ham             965               0\n",
       "Actual Spam             27             123"
      ]
     },
     "metadata": {},
     "output_type": "display_data"
    },
    {
     "name": "stdout",
     "output_type": "stream",
     "text": [
      "False Negative CV score: 45.666666666666664 (7.3181661333667165)\n",
      "\n"
     ]
    }
   ],
   "source": [
    "for i in inputs_dict:\n",
    "    print(i + \":\")\n",
    "    model_rdm_frst = RandomForestClassifier()\n",
    "    score = conf_mat_score_cv(model_rdm_frst, inputs = inputs_dict[i], display_confusion = True)\n",
    "    print(\"False Negative CV score: \" + str(score.mean()) +\" (\" +str(score.std())+\")\\n\")  "
   ]
  },
  {
   "cell_type": "markdown",
   "metadata": {},
   "source": [
    "#### Naive Bayes"
   ]
  },
  {
   "cell_type": "markdown",
   "metadata": {},
   "source": [
    "##### Gaussian"
   ]
  },
  {
   "cell_type": "code",
   "execution_count": 37,
   "metadata": {},
   "outputs": [
    {
     "name": "stdout",
     "output_type": "stream",
     "text": [
      "Original_SMS:\n",
      "False Negative CV score: 18.333333333333332 (6.847546194724712)\n",
      "\n",
      "Cleaned_SMS:\n",
      "False Negative CV score: 19.0 (5.715476066494082)\n",
      "\n",
      "Original_SMS_and_add_feat:\n",
      "False Negative CV score: 17.0 (4.96655480858378)\n",
      "\n",
      "Cleaned_SMS_and_add_feat:\n",
      "False Negative CV score: 17.0 (2.943920288775949)\n",
      "\n"
     ]
    }
   ],
   "source": [
    "for i in inputs_dict:\n",
    "    print(i + \":\")\n",
    "    model_GaussianNB = GaussianNB()\n",
    "    score = conf_mat_score_cv(model_GaussianNB, inputs = inputs_dict[i], display_confusion = False)\n",
    "    print(\"False Negative CV score: \" + str(score.mean()) +\" (\" +str(score.std())+\")\\n\")  "
   ]
  },
  {
   "cell_type": "markdown",
   "metadata": {},
   "source": [
    "##### Multinomial"
   ]
  },
  {
   "cell_type": "code",
   "execution_count": 38,
   "metadata": {
    "scrolled": true
   },
   "outputs": [
    {
     "name": "stdout",
     "output_type": "stream",
     "text": [
      "Original_SMS:\n"
     ]
    },
    {
     "data": {
      "text/html": [
       "<div>\n",
       "<style scoped>\n",
       "    .dataframe tbody tr th:only-of-type {\n",
       "        vertical-align: middle;\n",
       "    }\n",
       "\n",
       "    .dataframe tbody tr th {\n",
       "        vertical-align: top;\n",
       "    }\n",
       "\n",
       "    .dataframe thead th {\n",
       "        text-align: right;\n",
       "    }\n",
       "</style>\n",
       "<table border=\"1\" class=\"dataframe\">\n",
       "  <thead>\n",
       "    <tr style=\"text-align: right;\">\n",
       "      <th></th>\n",
       "      <th>Predicted Ham</th>\n",
       "      <th>Predicted Spam</th>\n",
       "    </tr>\n",
       "  </thead>\n",
       "  <tbody>\n",
       "    <tr>\n",
       "      <th>Actual Ham</th>\n",
       "      <td>959</td>\n",
       "      <td>6</td>\n",
       "    </tr>\n",
       "    <tr>\n",
       "      <th>Actual Spam</th>\n",
       "      <td>8</td>\n",
       "      <td>142</td>\n",
       "    </tr>\n",
       "  </tbody>\n",
       "</table>\n",
       "</div>"
      ],
      "text/plain": [
       "             Predicted Ham  Predicted Spam\n",
       "Actual Ham             959               6\n",
       "Actual Spam              8             142"
      ]
     },
     "metadata": {},
     "output_type": "display_data"
    },
    {
     "name": "stdout",
     "output_type": "stream",
     "text": [
      "False Negative CV score: 10.666666666666666 (2.8674417556808756)\n",
      "\n",
      "Cleaned_SMS:\n"
     ]
    },
    {
     "data": {
      "text/html": [
       "<div>\n",
       "<style scoped>\n",
       "    .dataframe tbody tr th:only-of-type {\n",
       "        vertical-align: middle;\n",
       "    }\n",
       "\n",
       "    .dataframe tbody tr th {\n",
       "        vertical-align: top;\n",
       "    }\n",
       "\n",
       "    .dataframe thead th {\n",
       "        text-align: right;\n",
       "    }\n",
       "</style>\n",
       "<table border=\"1\" class=\"dataframe\">\n",
       "  <thead>\n",
       "    <tr style=\"text-align: right;\">\n",
       "      <th></th>\n",
       "      <th>Predicted Ham</th>\n",
       "      <th>Predicted Spam</th>\n",
       "    </tr>\n",
       "  </thead>\n",
       "  <tbody>\n",
       "    <tr>\n",
       "      <th>Actual Ham</th>\n",
       "      <td>958</td>\n",
       "      <td>7</td>\n",
       "    </tr>\n",
       "    <tr>\n",
       "      <th>Actual Spam</th>\n",
       "      <td>10</td>\n",
       "      <td>140</td>\n",
       "    </tr>\n",
       "  </tbody>\n",
       "</table>\n",
       "</div>"
      ],
      "text/plain": [
       "             Predicted Ham  Predicted Spam\n",
       "Actual Ham             958               7\n",
       "Actual Spam             10             140"
      ]
     },
     "metadata": {},
     "output_type": "display_data"
    },
    {
     "name": "stdout",
     "output_type": "stream",
     "text": [
      "False Negative CV score: 10.333333333333334 (4.027681991198191)\n",
      "\n",
      "Original_SMS_and_add_feat:\n"
     ]
    },
    {
     "data": {
      "text/html": [
       "<div>\n",
       "<style scoped>\n",
       "    .dataframe tbody tr th:only-of-type {\n",
       "        vertical-align: middle;\n",
       "    }\n",
       "\n",
       "    .dataframe tbody tr th {\n",
       "        vertical-align: top;\n",
       "    }\n",
       "\n",
       "    .dataframe thead th {\n",
       "        text-align: right;\n",
       "    }\n",
       "</style>\n",
       "<table border=\"1\" class=\"dataframe\">\n",
       "  <thead>\n",
       "    <tr style=\"text-align: right;\">\n",
       "      <th></th>\n",
       "      <th>Predicted Ham</th>\n",
       "      <th>Predicted Spam</th>\n",
       "    </tr>\n",
       "  </thead>\n",
       "  <tbody>\n",
       "    <tr>\n",
       "      <th>Actual Ham</th>\n",
       "      <td>961</td>\n",
       "      <td>4</td>\n",
       "    </tr>\n",
       "    <tr>\n",
       "      <th>Actual Spam</th>\n",
       "      <td>7</td>\n",
       "      <td>143</td>\n",
       "    </tr>\n",
       "  </tbody>\n",
       "</table>\n",
       "</div>"
      ],
      "text/plain": [
       "             Predicted Ham  Predicted Spam\n",
       "Actual Ham             961               4\n",
       "Actual Spam              7             143"
      ]
     },
     "metadata": {},
     "output_type": "display_data"
    },
    {
     "name": "stdout",
     "output_type": "stream",
     "text": [
      "False Negative CV score: 8.333333333333334 (2.0548046676563256)\n",
      "\n",
      "Cleaned_SMS_and_add_feat:\n"
     ]
    },
    {
     "data": {
      "text/html": [
       "<div>\n",
       "<style scoped>\n",
       "    .dataframe tbody tr th:only-of-type {\n",
       "        vertical-align: middle;\n",
       "    }\n",
       "\n",
       "    .dataframe tbody tr th {\n",
       "        vertical-align: top;\n",
       "    }\n",
       "\n",
       "    .dataframe thead th {\n",
       "        text-align: right;\n",
       "    }\n",
       "</style>\n",
       "<table border=\"1\" class=\"dataframe\">\n",
       "  <thead>\n",
       "    <tr style=\"text-align: right;\">\n",
       "      <th></th>\n",
       "      <th>Predicted Ham</th>\n",
       "      <th>Predicted Spam</th>\n",
       "    </tr>\n",
       "  </thead>\n",
       "  <tbody>\n",
       "    <tr>\n",
       "      <th>Actual Ham</th>\n",
       "      <td>961</td>\n",
       "      <td>4</td>\n",
       "    </tr>\n",
       "    <tr>\n",
       "      <th>Actual Spam</th>\n",
       "      <td>7</td>\n",
       "      <td>143</td>\n",
       "    </tr>\n",
       "  </tbody>\n",
       "</table>\n",
       "</div>"
      ],
      "text/plain": [
       "             Predicted Ham  Predicted Spam\n",
       "Actual Ham             961               4\n",
       "Actual Spam              7             143"
      ]
     },
     "metadata": {},
     "output_type": "display_data"
    },
    {
     "name": "stdout",
     "output_type": "stream",
     "text": [
      "False Negative CV score: 8.333333333333334 (2.6246692913372702)\n",
      "\n"
     ]
    }
   ],
   "source": [
    "for i in inputs_dict:\n",
    "    print(i + \":\")\n",
    "    model_MultinomialNB = MultinomialNB(alpha=0.05)\n",
    "    score = conf_mat_score_cv(model_MultinomialNB, inputs = inputs_dict[i], display_confusion = True)\n",
    "    print(\"False Negative CV score: \" + str(score.mean()) +\" (\" +str(score.std())+\")\\n\")  "
   ]
  },
  {
   "cell_type": "markdown",
   "metadata": {},
   "source": [
    "#### Gradient Boosting"
   ]
  },
  {
   "cell_type": "code",
   "execution_count": 38,
   "metadata": {},
   "outputs": [
    {
     "name": "stdout",
     "output_type": "stream",
     "text": [
      "Original_SMS:\n"
     ]
    },
    {
     "data": {
      "text/html": [
       "<div>\n",
       "<style scoped>\n",
       "    .dataframe tbody tr th:only-of-type {\n",
       "        vertical-align: middle;\n",
       "    }\n",
       "\n",
       "    .dataframe tbody tr th {\n",
       "        vertical-align: top;\n",
       "    }\n",
       "\n",
       "    .dataframe thead th {\n",
       "        text-align: right;\n",
       "    }\n",
       "</style>\n",
       "<table border=\"1\" class=\"dataframe\">\n",
       "  <thead>\n",
       "    <tr style=\"text-align: right;\">\n",
       "      <th></th>\n",
       "      <th>Predicted Ham</th>\n",
       "      <th>Predicted Spam</th>\n",
       "    </tr>\n",
       "  </thead>\n",
       "  <tbody>\n",
       "    <tr>\n",
       "      <th>Actual Ham</th>\n",
       "      <td>958</td>\n",
       "      <td>7</td>\n",
       "    </tr>\n",
       "    <tr>\n",
       "      <th>Actual Spam</th>\n",
       "      <td>37</td>\n",
       "      <td>113</td>\n",
       "    </tr>\n",
       "  </tbody>\n",
       "</table>\n",
       "</div>"
      ],
      "text/plain": [
       "             Predicted Ham  Predicted Spam\n",
       "Actual Ham             958               7\n",
       "Actual Spam             37             113"
      ]
     },
     "metadata": {},
     "output_type": "display_data"
    },
    {
     "name": "stdout",
     "output_type": "stream",
     "text": [
      "False Negative CV score: 40.666666666666664 (6.599663291074444)\n",
      "\n",
      "Cleaned_SMS:\n"
     ]
    },
    {
     "data": {
      "text/html": [
       "<div>\n",
       "<style scoped>\n",
       "    .dataframe tbody tr th:only-of-type {\n",
       "        vertical-align: middle;\n",
       "    }\n",
       "\n",
       "    .dataframe tbody tr th {\n",
       "        vertical-align: top;\n",
       "    }\n",
       "\n",
       "    .dataframe thead th {\n",
       "        text-align: right;\n",
       "    }\n",
       "</style>\n",
       "<table border=\"1\" class=\"dataframe\">\n",
       "  <thead>\n",
       "    <tr style=\"text-align: right;\">\n",
       "      <th></th>\n",
       "      <th>Predicted Ham</th>\n",
       "      <th>Predicted Spam</th>\n",
       "    </tr>\n",
       "  </thead>\n",
       "  <tbody>\n",
       "    <tr>\n",
       "      <th>Actual Ham</th>\n",
       "      <td>960</td>\n",
       "      <td>5</td>\n",
       "    </tr>\n",
       "    <tr>\n",
       "      <th>Actual Spam</th>\n",
       "      <td>37</td>\n",
       "      <td>113</td>\n",
       "    </tr>\n",
       "  </tbody>\n",
       "</table>\n",
       "</div>"
      ],
      "text/plain": [
       "             Predicted Ham  Predicted Spam\n",
       "Actual Ham             960               5\n",
       "Actual Spam             37             113"
      ]
     },
     "metadata": {},
     "output_type": "display_data"
    },
    {
     "name": "stdout",
     "output_type": "stream",
     "text": [
      "False Negative CV score: 53.333333333333336 (10.402991022884823)\n",
      "\n",
      "Original_SMS_and_add_feat:\n"
     ]
    },
    {
     "data": {
      "text/html": [
       "<div>\n",
       "<style scoped>\n",
       "    .dataframe tbody tr th:only-of-type {\n",
       "        vertical-align: middle;\n",
       "    }\n",
       "\n",
       "    .dataframe tbody tr th {\n",
       "        vertical-align: top;\n",
       "    }\n",
       "\n",
       "    .dataframe thead th {\n",
       "        text-align: right;\n",
       "    }\n",
       "</style>\n",
       "<table border=\"1\" class=\"dataframe\">\n",
       "  <thead>\n",
       "    <tr style=\"text-align: right;\">\n",
       "      <th></th>\n",
       "      <th>Predicted Ham</th>\n",
       "      <th>Predicted Spam</th>\n",
       "    </tr>\n",
       "  </thead>\n",
       "  <tbody>\n",
       "    <tr>\n",
       "      <th>Actual Ham</th>\n",
       "      <td>965</td>\n",
       "      <td>0</td>\n",
       "    </tr>\n",
       "    <tr>\n",
       "      <th>Actual Spam</th>\n",
       "      <td>18</td>\n",
       "      <td>132</td>\n",
       "    </tr>\n",
       "  </tbody>\n",
       "</table>\n",
       "</div>"
      ],
      "text/plain": [
       "             Predicted Ham  Predicted Spam\n",
       "Actual Ham             965               0\n",
       "Actual Spam             18             132"
      ]
     },
     "metadata": {},
     "output_type": "display_data"
    },
    {
     "name": "stdout",
     "output_type": "stream",
     "text": [
      "False Negative CV score: 26.666666666666668 (3.299831645537222)\n",
      "\n",
      "Cleaned_SMS_and_add_feat:\n"
     ]
    },
    {
     "data": {
      "text/html": [
       "<div>\n",
       "<style scoped>\n",
       "    .dataframe tbody tr th:only-of-type {\n",
       "        vertical-align: middle;\n",
       "    }\n",
       "\n",
       "    .dataframe tbody tr th {\n",
       "        vertical-align: top;\n",
       "    }\n",
       "\n",
       "    .dataframe thead th {\n",
       "        text-align: right;\n",
       "    }\n",
       "</style>\n",
       "<table border=\"1\" class=\"dataframe\">\n",
       "  <thead>\n",
       "    <tr style=\"text-align: right;\">\n",
       "      <th></th>\n",
       "      <th>Predicted Ham</th>\n",
       "      <th>Predicted Spam</th>\n",
       "    </tr>\n",
       "  </thead>\n",
       "  <tbody>\n",
       "    <tr>\n",
       "      <th>Actual Ham</th>\n",
       "      <td>964</td>\n",
       "      <td>1</td>\n",
       "    </tr>\n",
       "    <tr>\n",
       "      <th>Actual Spam</th>\n",
       "      <td>15</td>\n",
       "      <td>135</td>\n",
       "    </tr>\n",
       "  </tbody>\n",
       "</table>\n",
       "</div>"
      ],
      "text/plain": [
       "             Predicted Ham  Predicted Spam\n",
       "Actual Ham             964               1\n",
       "Actual Spam             15             135"
      ]
     },
     "metadata": {},
     "output_type": "display_data"
    },
    {
     "name": "stdout",
     "output_type": "stream",
     "text": [
      "False Negative CV score: 30.0 (4.320493798938574)\n",
      "\n"
     ]
    }
   ],
   "source": [
    "for i in inputs_dict:\n",
    "    print(i + \":\")\n",
    "    model_grad_boost = GradientBoostingClassifier()\n",
    "    score = conf_mat_score_cv(model_grad_boost, inputs = inputs_dict[i], display_confusion = True)\n",
    "    print(\"False Negative CV score: \" + str(score.mean()) +\" (\" +str(score.std())+\")\\n\")  "
   ]
  },
  {
   "cell_type": "markdown",
   "metadata": {},
   "source": [
    "### Deep Learning"
   ]
  },
  {
   "cell_type": "markdown",
   "metadata": {},
   "source": [
    "#### Straighforward approach"
   ]
  },
  {
   "cell_type": "code",
   "execution_count": 35,
   "metadata": {},
   "outputs": [
    {
     "data": {
      "text/plain": [
       "((4457, 8439), 10)"
      ]
     },
     "execution_count": 35,
     "metadata": {},
     "output_type": "execute_result"
    }
   ],
   "source": [
    "X_train_cleaned_SMS_all_feat.shape, len(ADDITIONAL_FEATURES_COL_NAMES)"
   ]
  },
  {
   "cell_type": "code",
   "execution_count": 36,
   "metadata": {},
   "outputs": [
    {
     "name": "stdout",
     "output_type": "stream",
     "text": [
      "WARNING:tensorflow:From C:\\Users\\woill\\Anaconda3\\lib\\site-packages\\tensorflow\\contrib\\learn\\python\\learn\\datasets\\base.py:198: retry (from tensorflow.contrib.learn.python.learn.datasets.base) is deprecated and will be removed in a future version.\n",
      "Instructions for updating:\n",
      "Use the retry module or similar alternatives.\n"
     ]
    },
    {
     "name": "stderr",
     "output_type": "stream",
     "text": [
      "Using TensorFlow backend.\n"
     ]
    }
   ],
   "source": [
    "import tensorflow as tf\n",
    "import tflearn\n",
    "import numpy as np\n",
    "\n",
    "from keras.layers import Input, Dense, Reshape, Flatten, Dropout, multiply, GaussianNoise, SeparableConv2D\n",
    "from keras.layers import BatchNormalization, Activation, Embedding, ZeroPadding2D, multiply, division\n",
    "from keras.layers import MaxPooling2D, merge, MaxPooling1D, Concatenate\n",
    "from keras.layers.advanced_activations import LeakyReLU\n",
    "from keras.activations import sigmoid, tanh\n",
    "from keras.layers.convolutional import UpSampling2D, Conv2D, Conv2DTranspose, Conv1D\n",
    "from keras.datasets import mnist\n",
    "from keras.layers import Input, Dense, Reshape, Flatten, Dropout, multiply, GaussianNoise\n",
    "from keras.layers import BatchNormalization, Activation, Embedding, ZeroPadding2D\n",
    "from keras.layers import MaxPooling2D, merge\n",
    "from keras.layers.advanced_activations import LeakyReLU\n",
    "from keras.layers.convolutional import UpSampling2D, Conv2D, Conv2DTranspose\n",
    "from keras.models import Sequential, Model\n",
    "from keras.callbacks import TensorBoard\n",
    "from keras.models import Model, model_from_json, load_model\n",
    "from keras.optimizers import Adam\n",
    "from keras import losses\n",
    "from keras.utils import to_categorical, plot_model\n",
    "import keras.backend as K\n",
    "\n",
    "tf.set_random_seed(1234)"
   ]
  },
  {
   "cell_type": "code",
   "execution_count": 73,
   "metadata": {},
   "outputs": [
    {
     "name": "stdout",
     "output_type": "stream",
     "text": [
      "_________________________________________________________________\n",
      "Layer (type)                 Output Shape              Param #   \n",
      "=================================================================\n",
      "dense_41 (Dense)             (None, 64)                540160    \n",
      "_________________________________________________________________\n",
      "leaky_re_lu_36 (LeakyReLU)   (None, 64)                0         \n",
      "_________________________________________________________________\n",
      "dense_42 (Dense)             (None, 64)                4160      \n",
      "_________________________________________________________________\n",
      "leaky_re_lu_37 (LeakyReLU)   (None, 64)                0         \n",
      "_________________________________________________________________\n",
      "dense_43 (Dense)             (None, 64)                4160      \n",
      "_________________________________________________________________\n",
      "leaky_re_lu_38 (LeakyReLU)   (None, 64)                0         \n",
      "_________________________________________________________________\n",
      "dense_44 (Dense)             (None, 64)                4160      \n",
      "_________________________________________________________________\n",
      "leaky_re_lu_39 (LeakyReLU)   (None, 64)                0         \n",
      "_________________________________________________________________\n",
      "dense_45 (Dense)             (None, 64)                4160      \n",
      "_________________________________________________________________\n",
      "leaky_re_lu_40 (LeakyReLU)   (None, 64)                0         \n",
      "_________________________________________________________________\n",
      "dense_46 (Dense)             (None, 64)                4160      \n",
      "_________________________________________________________________\n",
      "leaky_re_lu_41 (LeakyReLU)   (None, 64)                0         \n",
      "_________________________________________________________________\n",
      "dense_47 (Dense)             (None, 64)                4160      \n",
      "_________________________________________________________________\n",
      "leaky_re_lu_42 (LeakyReLU)   (None, 64)                0         \n",
      "_________________________________________________________________\n",
      "dense_48 (Dense)             (None, 1)                 65        \n",
      "=================================================================\n",
      "Total params: 565,185\n",
      "Trainable params: 565,185\n",
      "Non-trainable params: 0\n",
      "_________________________________________________________________\n"
     ]
    }
   ],
   "source": [
    "def build_model(summa = False):\n",
    "\n",
    "    model = Sequential()\n",
    "    \n",
    "    model.add(Dense(64, input_dim=8439))\n",
    "    model.add(LeakyReLU(alpha=0.2))\n",
    "    model.add(Dense(64))\n",
    "    model.add(LeakyReLU(alpha=0.2))\n",
    "    model.add(Dense(64))\n",
    "    model.add(LeakyReLU(alpha=0.2))\n",
    "    model.add(Dense(64))\n",
    "    model.add(LeakyReLU(alpha=0.2))\n",
    "    model.add(Dense(64))\n",
    "    model.add(LeakyReLU(alpha=0.2))\n",
    "    model.add(Dense(64))\n",
    "    model.add(LeakyReLU(alpha=0.2))\n",
    "    model.add(Dense(64))\n",
    "    model.add(LeakyReLU(alpha=0.2))\n",
    "    model.add(Dense(1, activation=\"sigmoid\"))\n",
    "    \n",
    "    if summa == True:\n",
    "        model.summary()\n",
    "\n",
    "    encoded_repr = Input(shape=(8439, ))\n",
    "    validity = model(encoded_repr)\n",
    "    return Model(encoded_repr, validity)\n",
    "\n",
    "model = build_model(summa = True)"
   ]
  },
  {
   "cell_type": "code",
   "execution_count": 75,
   "metadata": {},
   "outputs": [
    {
     "data": {
      "text/html": [
       "<div>\n",
       "<style scoped>\n",
       "    .dataframe tbody tr th:only-of-type {\n",
       "        vertical-align: middle;\n",
       "    }\n",
       "\n",
       "    .dataframe tbody tr th {\n",
       "        vertical-align: top;\n",
       "    }\n",
       "\n",
       "    .dataframe thead th {\n",
       "        text-align: right;\n",
       "    }\n",
       "</style>\n",
       "<table border=\"1\" class=\"dataframe\">\n",
       "  <thead>\n",
       "    <tr style=\"text-align: right;\">\n",
       "      <th></th>\n",
       "      <th>Predicted Ham</th>\n",
       "      <th>Predicted Spam</th>\n",
       "    </tr>\n",
       "  </thead>\n",
       "  <tbody>\n",
       "    <tr>\n",
       "      <th>Actual Ham</th>\n",
       "      <td>963</td>\n",
       "      <td>2</td>\n",
       "    </tr>\n",
       "    <tr>\n",
       "      <th>Actual Spam</th>\n",
       "      <td>5</td>\n",
       "      <td>145</td>\n",
       "    </tr>\n",
       "  </tbody>\n",
       "</table>\n",
       "</div>"
      ],
      "text/plain": [
       "             Predicted Ham  Predicted Spam\n",
       "Actual Ham             963               2\n",
       "Actual Spam              5             145"
      ]
     },
     "metadata": {},
     "output_type": "display_data"
    }
   ],
   "source": [
    "with tf.Graph().as_default():\n",
    "    sess = tf.InteractiveSession()\n",
    "    tf.set_random_seed(1234)\n",
    "    with sess.as_default():\n",
    "        model = build_model(summa = False)\n",
    "        optimizer = Adam(0.001,  0.00001)\n",
    "        model = build_model()\n",
    "        model.compile(loss='binary_crossentropy',\n",
    "                      optimizer=optimizer,\n",
    "                      metrics=['accuracy'])\n",
    "\n",
    "        model.fit(x = X_train_cleaned_SMS_all_feat, y = y_train, batch_size = 64, epochs = 50,\n",
    "                  verbose = 0, validation_data=(X_test_cleaned_SMS_all_feat, y_test) )\n",
    "        d_loss = model.evaluate(x = X_test_cleaned_SMS_all_feat, y = y_test, batch_size = 128, verbose = 0)\n",
    "\n",
    "        prob_pred = model.predict(X_test_cleaned_SMS_all_feat)\n",
    "        pred = pd.DataFrame(prob_pred,columns=[\"proba\"]).proba.apply(lambda v : 0 if v < 1/2 else 1)\n",
    "        confusion_matrix_model = pd.DataFrame(\n",
    "            confusion_matrix(y_test, pred),\n",
    "            columns=[\"Predicted Ham\", \"Predicted Spam\"],\n",
    "            index=[\"Actual Ham\", \"Actual Spam\"])\n",
    "        display(confusion_matrix_model)"
   ]
  },
  {
   "cell_type": "markdown",
   "metadata": {},
   "source": [
    "Those first results seem very promising, let's look at more complex solutions, involving CNNs"
   ]
  },
  {
   "cell_type": "markdown",
   "metadata": {},
   "source": [
    "#### Convolutional Nets"
   ]
  },
  {
   "cell_type": "markdown",
   "metadata": {},
   "source": [
    "I tried finding the best approach to text classification. After looking at this paper : https://arxiv.org/pdf/1702.01923.pdf I decided to implement this referenced paper : http://www.aclweb.org/anthology/P14-1062.<br/>\n",
    "The reason I did that is because, I have less data than they did, and so a convolutionnal approach might be wiser.<br/>\n",
    "In addition, most of the SMS are very badly spelled, and this paper shows good results without using pre-trained embedding vectors."
   ]
  },
  {
   "cell_type": "markdown",
   "metadata": {},
   "source": [
    "I found an implementation here https://github.com/dennybritz/cnn-text-classification-tf and tweaked around a little to fit my problem. \n",
    "After just applying that code to my problem I was getting lesser results than with the above straightforward approach :"
   ]
  },
  {
   "cell_type": "code",
   "execution_count": 39,
   "metadata": {},
   "outputs": [],
   "source": [
    "import tensorflow as tf\n",
    "import numpy as np\n",
    "import pandas as pd\n",
    "import os\n",
    "import time\n",
    "import datetime\n",
    "\n",
    "from tensorflow.contrib import learn\n",
    "\n",
    "\n",
    "import cnn_text_classification_tf_master.data_helpers as data_helpers\n",
    "import cnn_text_classification_tf_master.training_helper\n",
    "from cnn_text_classification_tf_master.training_helper import create_tf_operations, dev_step, train_step\n",
    "from cnn_text_classification_tf_master.text_cnn import TextCNN\n",
    "from cnn_text_classification_tf_master.text_cnn_2 import TextCNN_2"
   ]
  },
  {
   "cell_type": "code",
   "execution_count": 40,
   "metadata": {},
   "outputs": [
    {
     "name": "stdout",
     "output_type": "stream",
     "text": [
      "WARNING:tensorflow:From <ipython-input-40-ed1e014316fd>:11: VocabularyProcessor.__init__ (from tensorflow.contrib.learn.python.learn.preprocessing.text) is deprecated and will be removed in a future version.\n",
      "Instructions for updating:\n",
      "Please use tensorflow/transform or tf.data.\n",
      "WARNING:tensorflow:From C:\\Users\\woill\\Anaconda3\\lib\\site-packages\\tensorflow\\contrib\\learn\\python\\learn\\preprocessing\\text.py:154: CategoricalVocabulary.__init__ (from tensorflow.contrib.learn.python.learn.preprocessing.categorical_vocabulary) is deprecated and will be removed in a future version.\n",
      "Instructions for updating:\n",
      "Please use tensorflow/transform or tf.data.\n",
      "WARNING:tensorflow:From C:\\Users\\woill\\Anaconda3\\lib\\site-packages\\tensorflow\\contrib\\learn\\python\\learn\\preprocessing\\text.py:170: tokenizer (from tensorflow.contrib.learn.python.learn.preprocessing.text) is deprecated and will be removed in a future version.\n",
      "Instructions for updating:\n",
      "Please use tensorflow/transform or tf.data.\n"
     ]
    },
    {
     "data": {
      "text/html": [
       "<div>\n",
       "<style scoped>\n",
       "    .dataframe tbody tr th:only-of-type {\n",
       "        vertical-align: middle;\n",
       "    }\n",
       "\n",
       "    .dataframe tbody tr th {\n",
       "        vertical-align: top;\n",
       "    }\n",
       "\n",
       "    .dataframe thead th {\n",
       "        text-align: right;\n",
       "    }\n",
       "</style>\n",
       "<table border=\"1\" class=\"dataframe\">\n",
       "  <thead>\n",
       "    <tr style=\"text-align: right;\">\n",
       "      <th></th>\n",
       "      <th>cleaned_SMS</th>\n",
       "      <th>label</th>\n",
       "      <th>SMS</th>\n",
       "      <th>target</th>\n",
       "      <th>!</th>\n",
       "      <th>\"</th>\n",
       "      <th>#</th>\n",
       "      <th>$</th>\n",
       "      <th>%</th>\n",
       "      <th>&amp;</th>\n",
       "      <th>...</th>\n",
       "      <th>S4</th>\n",
       "      <th>S5</th>\n",
       "      <th>S6</th>\n",
       "      <th>S7</th>\n",
       "      <th>S8</th>\n",
       "      <th>S9</th>\n",
       "      <th>spam</th>\n",
       "      <th>ham</th>\n",
       "      <th>cleaned_SMS_2</th>\n",
       "      <th>cleaned_SMS_2_ids</th>\n",
       "    </tr>\n",
       "  </thead>\n",
       "  <tbody>\n",
       "    <tr>\n",
       "      <th>0</th>\n",
       "      <td>go until jurong point crazy available only in ...</td>\n",
       "      <td>ham</td>\n",
       "      <td>Go until jurong point, crazy.. Available only ...</td>\n",
       "      <td>0</td>\n",
       "      <td>0</td>\n",
       "      <td>0</td>\n",
       "      <td>0</td>\n",
       "      <td>0</td>\n",
       "      <td>0</td>\n",
       "      <td>0</td>\n",
       "      <td>...</td>\n",
       "      <td>0</td>\n",
       "      <td>0</td>\n",
       "      <td>1</td>\n",
       "      <td>0</td>\n",
       "      <td>0</td>\n",
       "      <td>0</td>\n",
       "      <td>0</td>\n",
       "      <td>1</td>\n",
       "      <td>go until jurong point , crazy available only i...</td>\n",
       "      <td>[1, 2, 3, 4, 5, 6, 7, 8, 9, 10, 11, 12, 13, 14...</td>\n",
       "    </tr>\n",
       "    <tr>\n",
       "      <th>1</th>\n",
       "      <td>ok lar joking wif u oni</td>\n",
       "      <td>ham</td>\n",
       "      <td>Ok lar... Joking wif u oni...</td>\n",
       "      <td>0</td>\n",
       "      <td>0</td>\n",
       "      <td>0</td>\n",
       "      <td>0</td>\n",
       "      <td>0</td>\n",
       "      <td>0</td>\n",
       "      <td>0</td>\n",
       "      <td>...</td>\n",
       "      <td>0</td>\n",
       "      <td>0</td>\n",
       "      <td>1</td>\n",
       "      <td>0</td>\n",
       "      <td>0</td>\n",
       "      <td>0</td>\n",
       "      <td>0</td>\n",
       "      <td>1</td>\n",
       "      <td>ok lar joking wif u oni</td>\n",
       "      <td>[21, 22, 23, 24, 25, 26, 0, 0, 0, 0, 0, 0, 0, ...</td>\n",
       "    </tr>\n",
       "    <tr>\n",
       "      <th>2</th>\n",
       "      <td>free entry in 2 a wkly comp to win fa cup fina...</td>\n",
       "      <td>spam</td>\n",
       "      <td>Free entry in 2 a wkly comp to win FA Cup fina...</td>\n",
       "      <td>1</td>\n",
       "      <td>0</td>\n",
       "      <td>0</td>\n",
       "      <td>0</td>\n",
       "      <td>0</td>\n",
       "      <td>0</td>\n",
       "      <td>1</td>\n",
       "      <td>...</td>\n",
       "      <td>1</td>\n",
       "      <td>0</td>\n",
       "      <td>1</td>\n",
       "      <td>1</td>\n",
       "      <td>1</td>\n",
       "      <td>0</td>\n",
       "      <td>1</td>\n",
       "      <td>0</td>\n",
       "      <td>free entry in 2 a wkly comp to win fa cup fina...</td>\n",
       "      <td>[27, 28, 8, 29, 30, 31, 32, 33, 34, 35, 36, 37...</td>\n",
       "    </tr>\n",
       "    <tr>\n",
       "      <th>3</th>\n",
       "      <td>u dun say so early hor u c already then say</td>\n",
       "      <td>ham</td>\n",
       "      <td>U dun say so early hor... U c already then say...</td>\n",
       "      <td>0</td>\n",
       "      <td>0</td>\n",
       "      <td>0</td>\n",
       "      <td>0</td>\n",
       "      <td>0</td>\n",
       "      <td>0</td>\n",
       "      <td>0</td>\n",
       "      <td>...</td>\n",
       "      <td>0</td>\n",
       "      <td>0</td>\n",
       "      <td>1</td>\n",
       "      <td>1</td>\n",
       "      <td>0</td>\n",
       "      <td>0</td>\n",
       "      <td>0</td>\n",
       "      <td>1</td>\n",
       "      <td>u dun say so early hor u c already then say</td>\n",
       "      <td>[25, 54, 55, 56, 57, 58, 25, 50, 59, 60, 55, 0...</td>\n",
       "    </tr>\n",
       "    <tr>\n",
       "      <th>4</th>\n",
       "      <td>nah i dont think he goes to usf he lives aroun...</td>\n",
       "      <td>ham</td>\n",
       "      <td>Nah I don't think he goes to usf, he lives aro...</td>\n",
       "      <td>0</td>\n",
       "      <td>0</td>\n",
       "      <td>0</td>\n",
       "      <td>0</td>\n",
       "      <td>0</td>\n",
       "      <td>0</td>\n",
       "      <td>0</td>\n",
       "      <td>...</td>\n",
       "      <td>0</td>\n",
       "      <td>0</td>\n",
       "      <td>1</td>\n",
       "      <td>1</td>\n",
       "      <td>0</td>\n",
       "      <td>0</td>\n",
       "      <td>0</td>\n",
       "      <td>1</td>\n",
       "      <td>nah i do n't think he goes to usf , he lives a...</td>\n",
       "      <td>[61, 62, 63, 64, 65, 66, 67, 33, 68, 66, 69, 7...</td>\n",
       "    </tr>\n",
       "  </tbody>\n",
       "</table>\n",
       "<p>5 rows × 50 columns</p>\n",
       "</div>"
      ],
      "text/plain": [
       "                                         cleaned_SMS label  \\\n",
       "0  go until jurong point crazy available only in ...   ham   \n",
       "1                            ok lar joking wif u oni   ham   \n",
       "2  free entry in 2 a wkly comp to win fa cup fina...  spam   \n",
       "3        u dun say so early hor u c already then say   ham   \n",
       "4  nah i dont think he goes to usf he lives aroun...   ham   \n",
       "\n",
       "                                                 SMS  target  !  \"  #  $  %  \\\n",
       "0  Go until jurong point, crazy.. Available only ...       0  0  0  0  0  0   \n",
       "1                      Ok lar... Joking wif u oni...       0  0  0  0  0  0   \n",
       "2  Free entry in 2 a wkly comp to win FA Cup fina...       1  0  0  0  0  0   \n",
       "3  U dun say so early hor... U c already then say...       0  0  0  0  0  0   \n",
       "4  Nah I don't think he goes to usf, he lives aro...       0  0  0  0  0  0   \n",
       "\n",
       "   &                        ...                          S4  S5  S6  S7  S8  \\\n",
       "0  0                        ...                           0   0   1   0   0   \n",
       "1  0                        ...                           0   0   1   0   0   \n",
       "2  1                        ...                           1   0   1   1   1   \n",
       "3  0                        ...                           0   0   1   1   0   \n",
       "4  0                        ...                           0   0   1   1   0   \n",
       "\n",
       "   S9  spam  ham                                      cleaned_SMS_2  \\\n",
       "0   0     0    1  go until jurong point , crazy available only i...   \n",
       "1   0     0    1                            ok lar joking wif u oni   \n",
       "2   0     1    0  free entry in 2 a wkly comp to win fa cup fina...   \n",
       "3   0     0    1        u dun say so early hor u c already then say   \n",
       "4   0     0    1  nah i do n't think he goes to usf , he lives a...   \n",
       "\n",
       "                                   cleaned_SMS_2_ids  \n",
       "0  [1, 2, 3, 4, 5, 6, 7, 8, 9, 10, 11, 12, 13, 14...  \n",
       "1  [21, 22, 23, 24, 25, 26, 0, 0, 0, 0, 0, 0, 0, ...  \n",
       "2  [27, 28, 8, 29, 30, 31, 32, 33, 34, 35, 36, 37...  \n",
       "3  [25, 54, 55, 56, 57, 58, 25, 50, 59, 60, 55, 0...  \n",
       "4  [61, 62, 63, 64, 65, 66, 67, 33, 68, 66, 69, 7...  \n",
       "\n",
       "[5 rows x 50 columns]"
      ]
     },
     "execution_count": 40,
     "metadata": {},
     "output_type": "execute_result"
    }
   ],
   "source": [
    "dropout_keep_prob  = 0.5\n",
    "df['spam'] = df.label.map({'ham':0, 'spam':1})\n",
    "df['ham'] = df.label.map({'ham':1, 'spam':0})\n",
    "\n",
    "examples = [s.strip() for s in df.SMS.values]\n",
    "x_text = [data_helpers.clean_str(sent) for sent in examples]\n",
    "df[\"cleaned_SMS_2\"] = x_text\n",
    "\n",
    "max_document_length = max([len(x.split(\" \")) for x in x_text])\n",
    "\n",
    "vocab_processor = learn.preprocessing.VocabularyProcessor(max_document_length)\n",
    "vocab_processor.fit(df[\"cleaned_SMS_2\"])\n",
    "df[\"cleaned_SMS_2_ids\"] = df.cleaned_SMS_2.apply(lambda v : list(vocab_processor.transform([v]))[0])\n",
    "df.head()"
   ]
  },
  {
   "cell_type": "code",
   "execution_count": 148,
   "metadata": {},
   "outputs": [
    {
     "name": "stdout",
     "output_type": "stream",
     "text": [
      "(4736, 190)\n",
      "(4736, 2)\n"
     ]
    }
   ],
   "source": [
    "X_train_df, X_test_df, y_train, y_test = train_test_split(df[[\"cleaned_SMS_2_ids\",\"cleaned_SMS_2\", \"label\"]],\n",
    "                                                          df[[\"ham\", \"spam\"]].values,\n",
    "                                                          test_size = 0.15, random_state = 10, )\n",
    "\n",
    "X_train = np.array(list(X_train_df.cleaned_SMS_2_ids.values))\n",
    "X_test = np.array(list(X_test_df.cleaned_SMS_2_ids.values))\n",
    "\n",
    "print(X_train.shape)\n",
    "print(y_train.shape)"
   ]
  },
  {
   "cell_type": "markdown",
   "metadata": {},
   "source": [
    "Just using the text, without any of the addditional features, as a Baseline :"
   ]
  },
  {
   "cell_type": "code",
   "execution_count": 149,
   "metadata": {},
   "outputs": [
    {
     "name": "stdout",
     "output_type": "stream",
     "text": [
      "Writing to C:\\Users\\woill\\Documents\\Test Technique\\Navee\\runs\\1541183163\n",
      "\n",
      "Total nb of params  = 142498\n",
      "Evaluation : step 300, loss 0.315028, acc 0.869617\n",
      "Evaluation : step 600, loss 0.181138, acc 0.940191\n",
      "Evaluation : step 900, loss 0.0974325, acc 0.971292\n",
      "Evaluation : step 1200, loss 0.0683384, acc 0.977273\n",
      "Evaluation : step 1500, loss 0.0562849, acc 0.983254\n",
      "Evaluation : step 1800, loss 0.0497262, acc 0.98445\n",
      "Evaluation : step 2100, loss 0.0447637, acc 0.986842\n",
      "Evaluation : step 2400, loss 0.0421315, acc 0.985646\n",
      "Evaluation : step 2700, loss 0.0402927, acc 0.986842\n",
      "Evaluation : step 3000, loss 0.0394435, acc 0.985646\n",
      "Evaluation : step 3300, loss 0.0376129, acc 0.988038\n",
      "Evaluation : step 3600, loss 0.0380172, acc 0.986842\n",
      "Evaluation : step 3900, loss 0.038865, acc 0.985646\n",
      "Evaluation : step 4200, loss 0.0387956, acc 0.986842\n",
      "Evaluation : step 4500, loss 0.0388852, acc 0.985646\n",
      "Evaluation : step 4800, loss 0.0388064, acc 0.985646\n",
      "Evaluation : step 5100, loss 0.0405627, acc 0.985646\n",
      "Evaluation : step 5400, loss 0.0420096, acc 0.985646\n",
      "Evaluation : step 5700, loss 0.0419598, acc 0.985646\n",
      "Evaluation : step 6000, loss 0.0415855, acc 0.986842\n",
      "Evaluation : step 6300, loss 0.041398, acc 0.986842\n",
      "Evaluation : step 6600, loss 0.049329, acc 0.983254\n",
      "Evaluation : step 6900, loss 0.0418904, acc 0.985646\n",
      "Evaluation : step 7200, loss 0.0491375, acc 0.983254\n"
     ]
    },
    {
     "data": {
      "text/html": [
       "<div>\n",
       "<style scoped>\n",
       "    .dataframe tbody tr th:only-of-type {\n",
       "        vertical-align: middle;\n",
       "    }\n",
       "\n",
       "    .dataframe tbody tr th {\n",
       "        vertical-align: top;\n",
       "    }\n",
       "\n",
       "    .dataframe thead th {\n",
       "        text-align: right;\n",
       "    }\n",
       "</style>\n",
       "<table border=\"1\" class=\"dataframe\">\n",
       "  <thead>\n",
       "    <tr style=\"text-align: right;\">\n",
       "      <th></th>\n",
       "      <th>Predicted Ham</th>\n",
       "      <th>Predicted Spam</th>\n",
       "    </tr>\n",
       "  </thead>\n",
       "  <tbody>\n",
       "    <tr>\n",
       "      <th>Actual Ham</th>\n",
       "      <td>716</td>\n",
       "      <td>11</td>\n",
       "    </tr>\n",
       "    <tr>\n",
       "      <th>Actual Spam</th>\n",
       "      <td>2</td>\n",
       "      <td>107</td>\n",
       "    </tr>\n",
       "  </tbody>\n",
       "</table>\n",
       "</div>"
      ],
      "text/plain": [
       "             Predicted Ham  Predicted Spam\n",
       "Actual Ham             716              11\n",
       "Actual Spam              2             107"
      ]
     },
     "metadata": {},
     "output_type": "display_data"
    }
   ],
   "source": [
    "FILTER_SIZES = \"3,4,5\"\n",
    "NUM_FILTERS = 16\n",
    "BATCH_SIZE = 64\n",
    "NUM_EPOCHS = 100\n",
    "EMBEDDING_SIZE = 16\n",
    "\n",
    "with tf.Graph().as_default():\n",
    "    sess = tf.InteractiveSession()\n",
    "    tf.set_random_seed(1234)\n",
    "    with sess.as_default():\n",
    "        cnn = TextCNN(\n",
    "            sequence_length=max_document_length,\n",
    "            num_classes=2,\n",
    "            vocab_size=len(vocab_processor.vocabulary_),\n",
    "            embedding_size= EMBEDDING_SIZE,\n",
    "            filter_sizes=list(map(int, FILTER_SIZES.split(\",\"))),\n",
    "            num_filters=NUM_FILTERS,\n",
    "            l2_reg_lambda=0.0)\n",
    "        train_op, summaries_ops, summary_writers, checkpoint_prefix, saver, global_step = create_tf_operations(cnn, sess)\n",
    "        \n",
    "        \n",
    "        # Generate batches\n",
    "        batches = data_helpers.batch_iter(\n",
    "            list(zip(X_train, y_train)), batch_size = BATCH_SIZE, num_epochs = NUM_EPOCHS)\n",
    "        # Training loop. For each batch...\n",
    "        for batch in batches:\n",
    "            x_batch, y_batch = zip(*batch)\n",
    "\n",
    "            train_step(cnn, x_batch, y_batch, dropout_keep_prob, sess,\n",
    "                       ops = [train_op, global_step, summaries_ops[0]],\n",
    "                       train_summary_writer = summary_writers[0])\n",
    "            \n",
    "            current_step = tf.train.global_step(sess, global_step)\n",
    "            \n",
    "            if current_step % 300 == 0:\n",
    "                dev_step(cnn, X_test, y_test, sess,\n",
    "                         ops = [global_step, summaries_ops[1]],\n",
    "                         writer=summary_writers[1])\n",
    "\n",
    "            if current_step % 300 == 0:\n",
    "                path = saver.save(sess, checkpoint_prefix, global_step=current_step)\n",
    "                \n",
    "feed_dict = {\n",
    "  cnn.input_x: X_test,\n",
    "  cnn.input_y: y_test,\n",
    "  cnn.dropout_keep_prob: 1.0\n",
    "}\n",
    "step, summaries, loss, accuracy, pred= sess.run(\n",
    "    [global_step, summaries_ops[1], cnn.loss, cnn.accuracy, cnn.predictions],\n",
    "    feed_dict)\n",
    "\n",
    "y_tstst = y_test[:,1]\n",
    "confusion_matrix_model = pd.DataFrame(\n",
    "    confusion_matrix(y_tstst, pred),\n",
    "    columns=[\"Predicted Ham\", \"Predicted Spam\"],\n",
    "    index=[\"Actual Ham\", \"Actual Spam\"])\n",
    "display(confusion_matrix_model)"
   ]
  },
  {
   "cell_type": "markdown",
   "metadata": {},
   "source": [
    "The differnece in the data is that this CNN approach isn't taking into account the additional features that we defined above. And as we saw, those additiona features seem to be making a difference.<br/>\n",
    "So here, I am going to add those features in the following way :\n",
    "    1. Get my sentence\n",
    "    2. I embedded it\n",
    "    3. I apply different convolutionnal and max pooling layers\n",
    "    4. I concatenate the outputs of step 3. and flatten the vector (so far, no changes)\n",
    "    5. I concat this flatten vector with a feature vector, that is computed from the additional features I defined above (only difference with the usual model)\n",
    "    6. I use a dense layer to get my scores from this concatenation, used to define the loss and to train the network (same as before)"
   ]
  },
  {
   "cell_type": "code",
   "execution_count": 150,
   "metadata": {},
   "outputs": [
    {
     "name": "stdout",
     "output_type": "stream",
     "text": [
      "['S1', 'S2', 'S3', 'S4', 'S5', 'S6', 'S7', 'S8', 'S9', 'word_count']\n"
     ]
    }
   ],
   "source": [
    "print(ADDITIONAL_FEATURES_COL_NAMES)"
   ]
  },
  {
   "cell_type": "code",
   "execution_count": 151,
   "metadata": {},
   "outputs": [
    {
     "name": "stdout",
     "output_type": "stream",
     "text": [
      "(4736, 200)\n",
      "(4736, 2)\n"
     ]
    }
   ],
   "source": [
    "X_train_df, X_test_df, y_train, y_test = train_test_split(df[[\"cleaned_SMS_2_ids\",\"cleaned_SMS_2\", \"label\",\n",
    "                                                              'S1', 'S2', 'S3', 'S4', 'S5', 'S6', 'S7', 'S8', 'S9', 'word_count']],\n",
    "                                                          df[[\"ham\", \"spam\"]].values,\n",
    "                                                          test_size = 0.15, random_state = 10, )\n",
    "\n",
    "X_train_txt = np.array(list(X_train_df.cleaned_SMS_2_ids.values))\n",
    "X_test_txt = np.array(list(X_test_df.cleaned_SMS_2_ids.values))\n",
    "\n",
    "X_train_add_feat = np.array(X_train_df[['S1', 'S2', 'S3', 'S4', 'S5', 'S6', 'S7', 'S8', 'S9', 'word_count']].values)\n",
    "X_test_add_feat = np.array(X_test_df[['S1', 'S2', 'S3', 'S4', 'S5', 'S6', 'S7', 'S8', 'S9', 'word_count']].values)\n",
    "\n",
    "X_train = np.concatenate((X_train_txt, X_train_add_feat), axis = 1)\n",
    "X_test = np.concatenate((X_test_txt, X_test_add_feat), axis = 1)\n",
    "\n",
    "print(X_train.shape)\n",
    "print(y_train.shape)"
   ]
  },
  {
   "cell_type": "code",
   "execution_count": 154,
   "metadata": {},
   "outputs": [
    {
     "name": "stdout",
     "output_type": "stream",
     "text": [
      "Writing to C:\\Users\\woill\\Documents\\Test Technique\\Navee\\runs\\1541183466\n",
      "\n",
      "Total nb of params  = 142706\n",
      "Evaluation : step 300, loss 0.3014, acc 0.869617\n",
      "Evaluation : step 600, loss 0.156409, acc 0.947368\n",
      "Evaluation : step 900, loss 0.0925513, acc 0.967703\n",
      "Evaluation : step 1200, loss 0.0673488, acc 0.980861\n",
      "Evaluation : step 1500, loss 0.053958, acc 0.986842\n",
      "Evaluation : step 1800, loss 0.0473267, acc 0.988038\n",
      "Evaluation : step 2100, loss 0.0447995, acc 0.989234\n",
      "Evaluation : step 2400, loss 0.0414151, acc 0.989234\n",
      "Evaluation : step 2700, loss 0.0417245, acc 0.989234\n",
      "Evaluation : step 3000, loss 0.0395906, acc 0.990431\n",
      "Evaluation : step 3300, loss 0.0391964, acc 0.990431\n",
      "Evaluation : step 3600, loss 0.0397673, acc 0.990431\n",
      "Evaluation : step 3900, loss 0.0409405, acc 0.990431\n",
      "Evaluation : step 4200, loss 0.0405389, acc 0.990431\n",
      "Evaluation : step 4500, loss 0.0433098, acc 0.990431\n",
      "Evaluation : step 4800, loss 0.0433498, acc 0.991627\n",
      "Evaluation : step 5100, loss 0.0467918, acc 0.990431\n",
      "Evaluation : step 5400, loss 0.0471252, acc 0.989234\n",
      "Evaluation : step 5700, loss 0.0479145, acc 0.989234\n",
      "Evaluation : step 6000, loss 0.047445, acc 0.990431\n",
      "Evaluation : step 6300, loss 0.0500654, acc 0.988038\n",
      "Evaluation : step 6600, loss 0.0535334, acc 0.988038\n",
      "Evaluation : step 6900, loss 0.0561043, acc 0.988038\n",
      "Evaluation : step 7200, loss 0.0506349, acc 0.989234\n"
     ]
    },
    {
     "data": {
      "text/html": [
       "<div>\n",
       "<style scoped>\n",
       "    .dataframe tbody tr th:only-of-type {\n",
       "        vertical-align: middle;\n",
       "    }\n",
       "\n",
       "    .dataframe tbody tr th {\n",
       "        vertical-align: top;\n",
       "    }\n",
       "\n",
       "    .dataframe thead th {\n",
       "        text-align: right;\n",
       "    }\n",
       "</style>\n",
       "<table border=\"1\" class=\"dataframe\">\n",
       "  <thead>\n",
       "    <tr style=\"text-align: right;\">\n",
       "      <th></th>\n",
       "      <th>Predicted Ham</th>\n",
       "      <th>Predicted Spam</th>\n",
       "    </tr>\n",
       "  </thead>\n",
       "  <tbody>\n",
       "    <tr>\n",
       "      <th>Actual Ham</th>\n",
       "      <td>720</td>\n",
       "      <td>7</td>\n",
       "    </tr>\n",
       "    <tr>\n",
       "      <th>Actual Spam</th>\n",
       "      <td>2</td>\n",
       "      <td>107</td>\n",
       "    </tr>\n",
       "  </tbody>\n",
       "</table>\n",
       "</div>"
      ],
      "text/plain": [
       "             Predicted Ham  Predicted Spam\n",
       "Actual Ham             720               7\n",
       "Actual Spam              2             107"
      ]
     },
     "metadata": {},
     "output_type": "display_data"
    }
   ],
   "source": [
    "from cnn_text_classification_tf_master.text_cnn_2 import TextCNN_2\n",
    "FILTER_SIZES = \"3,4,5\"\n",
    "NUM_FILTERS = 16\n",
    "BATCH_SIZE = 64\n",
    "NUM_EPOCHS = 100\n",
    "EMBEDDING_SIZE = 16\n",
    "UNITS_ADD_FEAT = 16\n",
    "\n",
    "with tf.Graph().as_default():\n",
    "    sess = tf.InteractiveSession()\n",
    "    tf.set_random_seed(1234)\n",
    "    with sess.as_default():\n",
    "        cnn_2 = TextCNN_2(\n",
    "            sequence_length=max_document_length,\n",
    "            nb_of_add_feat = int(len(ADDITIONAL_FEATURES_COL_NAMES)),\n",
    "            num_classes=2,\n",
    "            vocab_size=len(vocab_processor.vocabulary_),\n",
    "            embedding_size= EMBEDDING_SIZE,\n",
    "            filter_sizes=list(map(int, FILTER_SIZES.split(\",\"))),\n",
    "            num_filters=NUM_FILTERS,\n",
    "            units_add_feat = UNITS_ADD_FEAT,\n",
    "            l2_reg_lambda=0.0)\n",
    "        train_op, summaries_ops, summary_writers, checkpoint_prefix, saver, global_step = create_tf_operations(cnn_2, sess)\n",
    "        \n",
    "        \n",
    "        # Generate batches\n",
    "        batches = data_helpers.batch_iter(\n",
    "            list(zip(X_train, y_train)), batch_size = BATCH_SIZE, num_epochs = NUM_EPOCHS)\n",
    "        # Training loop. For each batch...\n",
    "        for batch in batches:\n",
    "            x_batch, y_batch = zip(*batch)\n",
    "\n",
    "            train_step(cnn_2, x_batch, y_batch, dropout_keep_prob, sess,\n",
    "                       ops = [train_op, global_step, summaries_ops[0]],\n",
    "                       train_summary_writer = summary_writers[0])\n",
    "            \n",
    "            current_step = tf.train.global_step(sess, global_step)\n",
    "            \n",
    "            if current_step % 300 == 0:\n",
    "                dev_step(cnn_2, X_test, y_test, sess,\n",
    "                         ops = [global_step, summaries_ops[1]],\n",
    "                         writer=summary_writers[1])\n",
    "\n",
    "            if current_step % 300 == 0:\n",
    "                path = saver.save(sess, checkpoint_prefix, global_step=current_step)\n",
    "                \n",
    "feed_dict = {\n",
    "  cnn_2.input_x: X_test,\n",
    "  cnn_2.input_y: y_test,\n",
    "  cnn_2.dropout_keep_prob: 1.0\n",
    "}\n",
    "step, summaries, loss, accuracy, pred= sess.run(\n",
    "    [global_step, summaries_ops[1], cnn_2.loss, cnn_2.accuracy, cnn_2.predictions],\n",
    "    feed_dict)\n",
    "\n",
    "y_tstst = y_test[:,1]\n",
    "confusion_matrix_model = pd.DataFrame(\n",
    "    confusion_matrix(y_tstst, pred),\n",
    "    columns=[\"Predicted Ham\", \"Predicted Spam\"],\n",
    "    index=[\"Actual Ham\", \"Actual Spam\"])\n",
    "display(confusion_matrix_model)"
   ]
  },
  {
   "cell_type": "markdown",
   "metadata": {},
   "source": [
    "## Conclusion"
   ]
  },
  {
   "cell_type": "markdown",
   "metadata": {},
   "source": [
    "After having tried a few \"classical\" models and some a little more deep the conclusion is that overall, the perfomrance of Naive Bayes Multinomial is the best one amongst the base models. <br/><br/>\n",
    "One thing to keep in mind is the following result : the more I made my networks deeper and wider, the lesser the results. This is due to the data, there is not enough data to correctly train a very deep NN.<br/>In our case, more than 400k parameters is too much in the case of CNN<br/><br/>\n",
    "In the end, the best result comes from the very last model, where I implemented the classical CNN for text classification and added 10 choosen features"
   ]
  }
 ],
 "metadata": {
  "kernelspec": {
   "display_name": "Python 3",
   "language": "python",
   "name": "python3"
  },
  "language_info": {
   "codemirror_mode": {
    "name": "ipython",
    "version": 3
   },
   "file_extension": ".py",
   "mimetype": "text/x-python",
   "name": "python",
   "nbconvert_exporter": "python",
   "pygments_lexer": "ipython3",
   "version": "3.6.4"
  }
 },
 "nbformat": 4,
 "nbformat_minor": 2
}
